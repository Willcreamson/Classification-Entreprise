{
 "cells": [
  {
   "cell_type": "code",
   "execution_count": 292,
   "metadata": {
    "collapsed": true,
    "ExecuteTime": {
     "end_time": "2023-10-15T21:03:44.538033800Z",
     "start_time": "2023-10-15T21:03:44.489957700Z"
    }
   },
   "outputs": [],
   "source": [
    "import pandas as pd\n",
    "from sklearn.preprocessing import StandardScaler"
   ]
  },
  {
   "cell_type": "code",
   "execution_count": 293,
   "outputs": [],
   "source": [
    "bankruptDF = pd.read_csv(\"C:\\\\Users\\\\willc\\\\Downloads\\\\Data for the graded assignment-20231015\\\\bankrupt.txt\")"
   ],
   "metadata": {
    "collapsed": false,
    "ExecuteTime": {
     "end_time": "2023-10-15T21:03:45.049653600Z",
     "start_time": "2023-10-15T21:03:44.903607700Z"
    }
   }
  },
  {
   "cell_type": "code",
   "execution_count": 294,
   "outputs": [
    {
     "data": {
      "text/plain": "(6819, 96)"
     },
     "execution_count": 294,
     "metadata": {},
     "output_type": "execute_result"
    }
   ],
   "source": [
    "bankruptDF.shape"
   ],
   "metadata": {
    "collapsed": false,
    "ExecuteTime": {
     "end_time": "2023-10-15T21:03:45.399017600Z",
     "start_time": "2023-10-15T21:03:45.360606100Z"
    }
   }
  },
  {
   "cell_type": "markdown",
   "source": [
    "2. There are 6819 observations and 96 columns"
   ],
   "metadata": {
    "collapsed": false
   }
  },
  {
   "cell_type": "code",
   "execution_count": 295,
   "outputs": [
    {
     "data": {
      "text/plain": "         Bankrupt?   ROA(C) before interest and depreciation before interest  \\\ncount  6819.000000                                        6819.000000          \nmean      0.032263                                           0.505180          \nstd       0.176710                                           0.060686          \nmin       0.000000                                           0.000000          \n25%       0.000000                                           0.476527          \n50%       0.000000                                           0.502706          \n75%       0.000000                                           0.535563          \nmax       1.000000                                           1.000000          \n\n        ROA(A) before interest and % after tax  \\\ncount                              6819.000000   \nmean                                  0.558625   \nstd                                   0.065620   \nmin                                   0.000000   \n25%                                   0.535543   \n50%                                   0.559802   \n75%                                   0.589157   \nmax                                   1.000000   \n\n        ROA(B) before interest and depreciation after tax  \\\ncount                                        6819.000000    \nmean                                            0.553589    \nstd                                             0.061595    \nmin                                             0.000000    \n25%                                             0.527277    \n50%                                             0.552278    \n75%                                             0.584105    \nmax                                             1.000000    \n\n        Operating Gross Margin   Realized Sales Gross Margin  \\\ncount              6819.000000                   6819.000000   \nmean                  0.607948                      0.607929   \nstd                   0.016934                      0.016916   \nmin                   0.000000                      0.000000   \n25%                   0.600445                      0.600434   \n50%                   0.605997                      0.605976   \n75%                   0.613914                      0.613842   \nmax                   1.000000                      1.000000   \n\n        Operating Profit Rate   Pre-tax net Interest Rate  \\\ncount             6819.000000                 6819.000000   \nmean                 0.998755                    0.797190   \nstd                  0.013010                    0.012869   \nmin                  0.000000                    0.000000   \n25%                  0.998969                    0.797386   \n50%                  0.999022                    0.797464   \n75%                  0.999095                    0.797579   \nmax                  1.000000                    1.000000   \n\n        After-tax net Interest Rate  \\\ncount                   6819.000000   \nmean                       0.809084   \nstd                        0.013601   \nmin                        0.000000   \n25%                        0.809312   \n50%                        0.809375   \n75%                        0.809469   \nmax                        1.000000   \n\n        Non-industry income and expenditure/revenue  ...  \\\ncount                                   6819.000000  ...   \nmean                                       0.303623  ...   \nstd                                        0.011163  ...   \nmin                                        0.000000  ...   \n25%                                        0.303466  ...   \n50%                                        0.303525  ...   \n75%                                        0.303585  ...   \nmax                                        1.000000  ...   \n\n        Net Income to Total Assets   Total assets to GNP price  \\\ncount                  6819.000000                6.819000e+03   \nmean                      0.807760                1.862942e+07   \nstd                       0.040332                3.764501e+08   \nmin                       0.000000                0.000000e+00   \n25%                       0.796750                9.036205e-04   \n50%                       0.810619                2.085213e-03   \n75%                       0.826455                5.269777e-03   \nmax                       1.000000                9.820000e+09   \n\n        No-credit Interval   Gross Profit to Sales  \\\ncount          6819.000000             6819.000000   \nmean              0.623915                0.607946   \nstd               0.012290                0.016934   \nmin               0.000000                0.000000   \n25%               0.623636                0.600443   \n50%               0.623879                0.605998   \n75%               0.624168                0.613913   \nmax               1.000000                1.000000   \n\n        Net Income to Stockholder s Equity   Liability to Equity  \\\ncount                          6819.000000           6819.000000   \nmean                              0.840402              0.280365   \nstd                               0.014523              0.014463   \nmin                               0.000000              0.000000   \n25%                               0.840115              0.276944   \n50%                               0.841179              0.278778   \n75%                               0.842357              0.281449   \nmax                               1.000000              1.000000   \n\n        Degree of Financial Leverage (DFL)  \\\ncount                          6819.000000   \nmean                              0.027541   \nstd                               0.015668   \nmin                               0.000000   \n25%                               0.026791   \n50%                               0.026808   \n75%                               0.026913   \nmax                               1.000000   \n\n        Interest Coverage Ratio (Interest expense to EBIT)   Net Income Flag  \\\ncount                                        6819.000000              6819.0   \nmean                                            0.565358                 1.0   \nstd                                             0.013214                 0.0   \nmin                                             0.000000                 1.0   \n25%                                             0.565158                 1.0   \n50%                                             0.565252                 1.0   \n75%                                             0.565725                 1.0   \nmax                                             1.000000                 1.0   \n\n        Equity to Liability  \ncount           6819.000000  \nmean               0.047578  \nstd                0.050014  \nmin                0.000000  \n25%                0.024477  \n50%                0.033798  \n75%                0.052838  \nmax                1.000000  \n\n[8 rows x 96 columns]",
      "text/html": "<div>\n<style scoped>\n    .dataframe tbody tr th:only-of-type {\n        vertical-align: middle;\n    }\n\n    .dataframe tbody tr th {\n        vertical-align: top;\n    }\n\n    .dataframe thead th {\n        text-align: right;\n    }\n</style>\n<table border=\"1\" class=\"dataframe\">\n  <thead>\n    <tr style=\"text-align: right;\">\n      <th></th>\n      <th>Bankrupt?</th>\n      <th>ROA(C) before interest and depreciation before interest</th>\n      <th>ROA(A) before interest and % after tax</th>\n      <th>ROA(B) before interest and depreciation after tax</th>\n      <th>Operating Gross Margin</th>\n      <th>Realized Sales Gross Margin</th>\n      <th>Operating Profit Rate</th>\n      <th>Pre-tax net Interest Rate</th>\n      <th>After-tax net Interest Rate</th>\n      <th>Non-industry income and expenditure/revenue</th>\n      <th>...</th>\n      <th>Net Income to Total Assets</th>\n      <th>Total assets to GNP price</th>\n      <th>No-credit Interval</th>\n      <th>Gross Profit to Sales</th>\n      <th>Net Income to Stockholder s Equity</th>\n      <th>Liability to Equity</th>\n      <th>Degree of Financial Leverage (DFL)</th>\n      <th>Interest Coverage Ratio (Interest expense to EBIT)</th>\n      <th>Net Income Flag</th>\n      <th>Equity to Liability</th>\n    </tr>\n  </thead>\n  <tbody>\n    <tr>\n      <th>count</th>\n      <td>6819.000000</td>\n      <td>6819.000000</td>\n      <td>6819.000000</td>\n      <td>6819.000000</td>\n      <td>6819.000000</td>\n      <td>6819.000000</td>\n      <td>6819.000000</td>\n      <td>6819.000000</td>\n      <td>6819.000000</td>\n      <td>6819.000000</td>\n      <td>...</td>\n      <td>6819.000000</td>\n      <td>6.819000e+03</td>\n      <td>6819.000000</td>\n      <td>6819.000000</td>\n      <td>6819.000000</td>\n      <td>6819.000000</td>\n      <td>6819.000000</td>\n      <td>6819.000000</td>\n      <td>6819.0</td>\n      <td>6819.000000</td>\n    </tr>\n    <tr>\n      <th>mean</th>\n      <td>0.032263</td>\n      <td>0.505180</td>\n      <td>0.558625</td>\n      <td>0.553589</td>\n      <td>0.607948</td>\n      <td>0.607929</td>\n      <td>0.998755</td>\n      <td>0.797190</td>\n      <td>0.809084</td>\n      <td>0.303623</td>\n      <td>...</td>\n      <td>0.807760</td>\n      <td>1.862942e+07</td>\n      <td>0.623915</td>\n      <td>0.607946</td>\n      <td>0.840402</td>\n      <td>0.280365</td>\n      <td>0.027541</td>\n      <td>0.565358</td>\n      <td>1.0</td>\n      <td>0.047578</td>\n    </tr>\n    <tr>\n      <th>std</th>\n      <td>0.176710</td>\n      <td>0.060686</td>\n      <td>0.065620</td>\n      <td>0.061595</td>\n      <td>0.016934</td>\n      <td>0.016916</td>\n      <td>0.013010</td>\n      <td>0.012869</td>\n      <td>0.013601</td>\n      <td>0.011163</td>\n      <td>...</td>\n      <td>0.040332</td>\n      <td>3.764501e+08</td>\n      <td>0.012290</td>\n      <td>0.016934</td>\n      <td>0.014523</td>\n      <td>0.014463</td>\n      <td>0.015668</td>\n      <td>0.013214</td>\n      <td>0.0</td>\n      <td>0.050014</td>\n    </tr>\n    <tr>\n      <th>min</th>\n      <td>0.000000</td>\n      <td>0.000000</td>\n      <td>0.000000</td>\n      <td>0.000000</td>\n      <td>0.000000</td>\n      <td>0.000000</td>\n      <td>0.000000</td>\n      <td>0.000000</td>\n      <td>0.000000</td>\n      <td>0.000000</td>\n      <td>...</td>\n      <td>0.000000</td>\n      <td>0.000000e+00</td>\n      <td>0.000000</td>\n      <td>0.000000</td>\n      <td>0.000000</td>\n      <td>0.000000</td>\n      <td>0.000000</td>\n      <td>0.000000</td>\n      <td>1.0</td>\n      <td>0.000000</td>\n    </tr>\n    <tr>\n      <th>25%</th>\n      <td>0.000000</td>\n      <td>0.476527</td>\n      <td>0.535543</td>\n      <td>0.527277</td>\n      <td>0.600445</td>\n      <td>0.600434</td>\n      <td>0.998969</td>\n      <td>0.797386</td>\n      <td>0.809312</td>\n      <td>0.303466</td>\n      <td>...</td>\n      <td>0.796750</td>\n      <td>9.036205e-04</td>\n      <td>0.623636</td>\n      <td>0.600443</td>\n      <td>0.840115</td>\n      <td>0.276944</td>\n      <td>0.026791</td>\n      <td>0.565158</td>\n      <td>1.0</td>\n      <td>0.024477</td>\n    </tr>\n    <tr>\n      <th>50%</th>\n      <td>0.000000</td>\n      <td>0.502706</td>\n      <td>0.559802</td>\n      <td>0.552278</td>\n      <td>0.605997</td>\n      <td>0.605976</td>\n      <td>0.999022</td>\n      <td>0.797464</td>\n      <td>0.809375</td>\n      <td>0.303525</td>\n      <td>...</td>\n      <td>0.810619</td>\n      <td>2.085213e-03</td>\n      <td>0.623879</td>\n      <td>0.605998</td>\n      <td>0.841179</td>\n      <td>0.278778</td>\n      <td>0.026808</td>\n      <td>0.565252</td>\n      <td>1.0</td>\n      <td>0.033798</td>\n    </tr>\n    <tr>\n      <th>75%</th>\n      <td>0.000000</td>\n      <td>0.535563</td>\n      <td>0.589157</td>\n      <td>0.584105</td>\n      <td>0.613914</td>\n      <td>0.613842</td>\n      <td>0.999095</td>\n      <td>0.797579</td>\n      <td>0.809469</td>\n      <td>0.303585</td>\n      <td>...</td>\n      <td>0.826455</td>\n      <td>5.269777e-03</td>\n      <td>0.624168</td>\n      <td>0.613913</td>\n      <td>0.842357</td>\n      <td>0.281449</td>\n      <td>0.026913</td>\n      <td>0.565725</td>\n      <td>1.0</td>\n      <td>0.052838</td>\n    </tr>\n    <tr>\n      <th>max</th>\n      <td>1.000000</td>\n      <td>1.000000</td>\n      <td>1.000000</td>\n      <td>1.000000</td>\n      <td>1.000000</td>\n      <td>1.000000</td>\n      <td>1.000000</td>\n      <td>1.000000</td>\n      <td>1.000000</td>\n      <td>1.000000</td>\n      <td>...</td>\n      <td>1.000000</td>\n      <td>9.820000e+09</td>\n      <td>1.000000</td>\n      <td>1.000000</td>\n      <td>1.000000</td>\n      <td>1.000000</td>\n      <td>1.000000</td>\n      <td>1.000000</td>\n      <td>1.0</td>\n      <td>1.000000</td>\n    </tr>\n  </tbody>\n</table>\n<p>8 rows × 96 columns</p>\n</div>"
     },
     "execution_count": 295,
     "metadata": {},
     "output_type": "execute_result"
    }
   ],
   "source": [
    "bankruptDF.describe()"
   ],
   "metadata": {
    "collapsed": false,
    "ExecuteTime": {
     "end_time": "2023-10-15T21:03:47.165326300Z",
     "start_time": "2023-10-15T21:03:47.030190500Z"
    }
   }
  },
  {
   "cell_type": "code",
   "execution_count": 296,
   "outputs": [
    {
     "data": {
      "text/plain": "Index(['Bankrupt?', ' ROA(C) before interest and depreciation before interest',\n       ' ROA(A) before interest and % after tax',\n       ' ROA(B) before interest and depreciation after tax',\n       ' Operating Gross Margin', ' Realized Sales Gross Margin',\n       ' Operating Profit Rate', ' Pre-tax net Interest Rate',\n       ' After-tax net Interest Rate',\n       ' Non-industry income and expenditure/revenue',\n       ' Continuous interest rate (after tax)', ' Operating Expense Rate',\n       ' Research and development expense rate', ' Cash flow rate',\n       ' Interest-bearing debt interest rate', ' Tax rate (A)',\n       ' Net Value Per Share (B)', ' Net Value Per Share (A)',\n       ' Net Value Per Share (C)', ' Persistent EPS in the Last Four Seasons',\n       ' Cash Flow Per Share', ' Revenue Per Share (Yuan ¥)',\n       ' Operating Profit Per Share (Yuan ¥)',\n       ' Per Share Net profit before tax (Yuan ¥)',\n       ' Realized Sales Gross Profit Growth Rate',\n       ' Operating Profit Growth Rate', ' After-tax Net Profit Growth Rate',\n       ' Regular Net Profit Growth Rate', ' Continuous Net Profit Growth Rate',\n       ' Total Asset Growth Rate', ' Net Value Growth Rate',\n       ' Total Asset Return Growth Rate Ratio', ' Cash Reinvestment %',\n       ' Current Ratio', ' Quick Ratio', ' Interest Expense Ratio',\n       ' Total debt/Total net worth', ' Debt ratio %', ' Net worth/Assets',\n       ' Long-term fund suitability ratio (A)', ' Borrowing dependency',\n       ' Contingent liabilities/Net worth',\n       ' Operating profit/Paid-in capital',\n       ' Net profit before tax/Paid-in capital',\n       ' Inventory and accounts receivable/Net value', ' Total Asset Turnover',\n       ' Accounts Receivable Turnover', ' Average Collection Days',\n       ' Inventory Turnover Rate (times)', ' Fixed Assets Turnover Frequency',\n       ' Net Worth Turnover Rate (times)', ' Revenue per person',\n       ' Operating profit per person', ' Allocation rate per person',\n       ' Working Capital to Total Assets', ' Quick Assets/Total Assets',\n       ' Current Assets/Total Assets', ' Cash/Total Assets',\n       ' Quick Assets/Current Liability', ' Cash/Current Liability',\n       ' Current Liability to Assets', ' Operating Funds to Liability',\n       ' Inventory/Working Capital', ' Inventory/Current Liability',\n       ' Current Liabilities/Liability', ' Working Capital/Equity',\n       ' Current Liabilities/Equity', ' Long-term Liability to Current Assets',\n       ' Retained Earnings to Total Assets', ' Total income/Total expense',\n       ' Total expense/Assets', ' Current Asset Turnover Rate',\n       ' Quick Asset Turnover Rate', ' Working capitcal Turnover Rate',\n       ' Cash Turnover Rate', ' Cash Flow to Sales', ' Fixed Assets to Assets',\n       ' Current Liability to Liability', ' Current Liability to Equity',\n       ' Equity to Long-term Liability', ' Cash Flow to Total Assets',\n       ' Cash Flow to Liability', ' CFO to Assets', ' Cash Flow to Equity',\n       ' Current Liability to Current Assets', ' Liability-Assets Flag',\n       ' Net Income to Total Assets', ' Total assets to GNP price',\n       ' No-credit Interval', ' Gross Profit to Sales',\n       ' Net Income to Stockholder s Equity', ' Liability to Equity',\n       ' Degree of Financial Leverage (DFL)',\n       ' Interest Coverage Ratio (Interest expense to EBIT)',\n       ' Net Income Flag', ' Equity to Liability'],\n      dtype='object')"
     },
     "execution_count": 296,
     "metadata": {},
     "output_type": "execute_result"
    }
   ],
   "source": [
    "bankruptDF.columns"
   ],
   "metadata": {
    "collapsed": false,
    "ExecuteTime": {
     "end_time": "2023-10-15T21:03:48.420570800Z",
     "start_time": "2023-10-15T21:03:48.404734600Z"
    }
   }
  },
  {
   "cell_type": "code",
   "execution_count": 297,
   "outputs": [
    {
     "data": {
      "text/plain": "3542890503.7167788"
     },
     "execution_count": 297,
     "metadata": {},
     "output_type": "execute_result"
    }
   ],
   "source": [
    "max(bankruptDF.describe().std())"
   ],
   "metadata": {
    "collapsed": false,
    "ExecuteTime": {
     "end_time": "2023-10-15T21:03:49.380617200Z",
     "start_time": "2023-10-15T21:03:49.224909800Z"
    }
   }
  },
  {
   "cell_type": "markdown",
   "source": [
    "3.Regarding the very high variance of this dataset (3542890503.7167788) for the implementation of some ml algorithms it is better to normalize the data"
   ],
   "metadata": {
    "collapsed": false
   }
  },
  {
   "cell_type": "code",
   "execution_count": 298,
   "outputs": [],
   "source": [
    "scaler = StandardScaler()\n",
    "df = scaler.fit_transform(bankruptDF)"
   ],
   "metadata": {
    "collapsed": false,
    "ExecuteTime": {
     "end_time": "2023-10-15T21:03:52.397973200Z",
     "start_time": "2023-10-15T21:03:52.366849300Z"
    }
   }
  },
  {
   "cell_type": "markdown",
   "source": [
    "4. The target variable is 'Bankrupt ? A boolean variable which takes 1 if the company is banrupted and false otherwise,we can verify according to the debt ratio"
   ],
   "metadata": {
    "collapsed": false
   }
  },
  {
   "cell_type": "code",
   "execution_count": 299,
   "outputs": [
    {
     "data": {
      "text/plain": "      Bankrupt?   Debt ratio %\n0             1       0.207576\n1             1       0.171176\n2             1       0.207516\n3             1       0.151465\n4             1       0.106509\n...         ...            ...\n6814          0       0.124618\n6815          0       0.099253\n6816          0       0.038939\n6817          0       0.086979\n6818          0       0.014149\n\n[6819 rows x 2 columns]",
      "text/html": "<div>\n<style scoped>\n    .dataframe tbody tr th:only-of-type {\n        vertical-align: middle;\n    }\n\n    .dataframe tbody tr th {\n        vertical-align: top;\n    }\n\n    .dataframe thead th {\n        text-align: right;\n    }\n</style>\n<table border=\"1\" class=\"dataframe\">\n  <thead>\n    <tr style=\"text-align: right;\">\n      <th></th>\n      <th>Bankrupt?</th>\n      <th>Debt ratio %</th>\n    </tr>\n  </thead>\n  <tbody>\n    <tr>\n      <th>0</th>\n      <td>1</td>\n      <td>0.207576</td>\n    </tr>\n    <tr>\n      <th>1</th>\n      <td>1</td>\n      <td>0.171176</td>\n    </tr>\n    <tr>\n      <th>2</th>\n      <td>1</td>\n      <td>0.207516</td>\n    </tr>\n    <tr>\n      <th>3</th>\n      <td>1</td>\n      <td>0.151465</td>\n    </tr>\n    <tr>\n      <th>4</th>\n      <td>1</td>\n      <td>0.106509</td>\n    </tr>\n    <tr>\n      <th>...</th>\n      <td>...</td>\n      <td>...</td>\n    </tr>\n    <tr>\n      <th>6814</th>\n      <td>0</td>\n      <td>0.124618</td>\n    </tr>\n    <tr>\n      <th>6815</th>\n      <td>0</td>\n      <td>0.099253</td>\n    </tr>\n    <tr>\n      <th>6816</th>\n      <td>0</td>\n      <td>0.038939</td>\n    </tr>\n    <tr>\n      <th>6817</th>\n      <td>0</td>\n      <td>0.086979</td>\n    </tr>\n    <tr>\n      <th>6818</th>\n      <td>0</td>\n      <td>0.014149</td>\n    </tr>\n  </tbody>\n</table>\n<p>6819 rows × 2 columns</p>\n</div>"
     },
     "execution_count": 299,
     "metadata": {},
     "output_type": "execute_result"
    }
   ],
   "source": [
    "bankruptDF[['Bankrupt?',' Debt ratio %']]"
   ],
   "metadata": {
    "collapsed": false,
    "ExecuteTime": {
     "end_time": "2023-10-15T21:03:53.806285Z",
     "start_time": "2023-10-15T21:03:53.784998Z"
    }
   }
  },
  {
   "cell_type": "code",
   "execution_count": 300,
   "outputs": [
    {
     "data": {
      "text/plain": "0    6599\n1     220\nName: Bankrupt?, dtype: int64"
     },
     "execution_count": 300,
     "metadata": {},
     "output_type": "execute_result"
    }
   ],
   "source": [
    "pd.value_counts(bankruptDF['Bankrupt?'])"
   ],
   "metadata": {
    "collapsed": false,
    "ExecuteTime": {
     "end_time": "2023-10-15T21:03:54.304563Z",
     "start_time": "2023-10-15T21:03:54.267229Z"
    }
   }
  },
  {
   "cell_type": "markdown",
   "source": [
    "220 companies has been disrupted and 6599, only 3,3% of the companies are bankrupted so the data set is not balanced"
   ],
   "metadata": {
    "collapsed": false
   }
  },
  {
   "cell_type": "code",
   "execution_count": 301,
   "outputs": [
    {
     "data": {
      "text/plain": "0.03333838460372784"
     },
     "execution_count": 301,
     "metadata": {},
     "output_type": "execute_result"
    }
   ],
   "source": [
    "percentage = 220/6599\n",
    "percentage"
   ],
   "metadata": {
    "collapsed": false,
    "ExecuteTime": {
     "end_time": "2023-10-15T21:03:55.152585400Z",
     "start_time": "2023-10-15T21:03:55.127717700Z"
    }
   }
  },
  {
   "cell_type": "code",
   "execution_count": 302,
   "outputs": [],
   "source": [
    "#4 Let's import the four datasets"
   ],
   "metadata": {
    "collapsed": false,
    "ExecuteTime": {
     "end_time": "2023-10-15T21:03:55.534574Z",
     "start_time": "2023-10-15T21:03:55.530569900Z"
    }
   }
  },
  {
   "cell_type": "code",
   "execution_count": 313,
   "outputs": [],
   "source": [
    "x_train = pd.read_csv(\"C:\\\\Users\\\\willc\\\\Downloads\\\\Data for the graded assignment-20231015\\\\x_train.csv\", index_col=0)\n",
    "x_train.name = \"x_train\"\n",
    "x_test = pd.read_csv(\"C:\\\\Users\\\\willc\\\\Downloads\\\\Data for the graded assignment-20231015\\\\x_test.csv\",index_col=0)\n",
    "x_test.name = \"x_test\"\n",
    "y_train = pd.read_csv(\"C:\\\\Users\\\\willc\\\\Downloads\\\\Data for the graded assignment-20231015\\\\y_train.csv\",index_col=0)\n",
    "y_train.name = \"y_train\"\n",
    "y_test = pd.read_csv(\"C:\\\\Users\\\\willc\\\\Downloads\\\\Data for the graded assignment-20231015\\\\y_test.csv\",index_col=0)\n",
    "y_test.name = \"y_test\""
   ],
   "metadata": {
    "collapsed": false,
    "ExecuteTime": {
     "end_time": "2023-10-15T21:06:14.753055700Z",
     "start_time": "2023-10-15T21:06:14.697516700Z"
    }
   }
  },
  {
   "cell_type": "code",
   "execution_count": 314,
   "outputs": [
    {
     "name": "stdout",
     "output_type": "stream",
     "text": [
      "(1364, 12) (5455, 12) (1364, 1) (5455, 1)\n"
     ]
    }
   ],
   "source": [
    "print(x_test.shape, x_train.shape, y_test.shape, y_train.shape)"
   ],
   "metadata": {
    "collapsed": false,
    "ExecuteTime": {
     "end_time": "2023-10-15T21:06:18.149889900Z",
     "start_time": "2023-10-15T21:06:18.119390100Z"
    }
   }
  },
  {
   "cell_type": "markdown",
   "source": [
    "Data set x_train : 5455 observations\n",
    "x_test : 1364 observations\n",
    "y_test : 1364 observations\n",
    "y_train 5455 observations"
   ],
   "metadata": {
    "collapsed": false
   }
  },
  {
   "cell_type": "code",
   "execution_count": 315,
   "outputs": [
    {
     "name": "stdout",
     "output_type": "stream",
     "text": [
      "<bound method NDFrame._add_numeric_operations.<locals>.mean of 4929    0.481207\n",
      "6424    0.501828\n",
      "3807    0.517574\n",
      "2011    0.521669\n",
      "6728    0.492176\n",
      "          ...   \n",
      "6363    0.503681\n",
      "348     0.480086\n",
      "5397    0.515575\n",
      "2355    0.473895\n",
      "4555    0.552381\n",
      "Name: ROAC, Length: 1364, dtype: float64> <bound method NDFrame._add_numeric_operations.<locals>.std of 4929    0.481207\n",
      "6424    0.501828\n",
      "3807    0.517574\n",
      "2011    0.521669\n",
      "6728    0.492176\n",
      "          ...   \n",
      "6363    0.503681\n",
      "348     0.480086\n",
      "5397    0.515575\n",
      "2355    0.473895\n",
      "4555    0.552381\n",
      "Name: ROAC, Length: 1364, dtype: float64>\n",
      "###############dataset###############2\n",
      "<bound method NDFrame._add_numeric_operations.<locals>.mean of 4929    0.469418\n",
      "6424    0.557894\n",
      "3807    0.537505\n",
      "2011    0.596162\n",
      "6728    0.544320\n",
      "          ...   \n",
      "6363    0.572231\n",
      "348     0.544374\n",
      "5397    0.572885\n",
      "2355    0.538378\n",
      "4555    0.610554\n",
      "Name: ROAA, Length: 1364, dtype: float64> <bound method NDFrame._add_numeric_operations.<locals>.std of 4929    0.469418\n",
      "6424    0.557894\n",
      "3807    0.537505\n",
      "2011    0.596162\n",
      "6728    0.544320\n",
      "          ...   \n",
      "6363    0.572231\n",
      "348     0.544374\n",
      "5397    0.572885\n",
      "2355    0.538378\n",
      "4555    0.610554\n",
      "Name: ROAA, Length: 1364, dtype: float64>\n",
      "###############dataset###############2\n",
      "<bound method NDFrame._add_numeric_operations.<locals>.mean of 4929    0.513143\n",
      "6424    0.552706\n",
      "3807    0.559880\n",
      "2011    0.580491\n",
      "6728    0.533326\n",
      "          ...   \n",
      "6363    0.557096\n",
      "348     0.534022\n",
      "5397    0.566519\n",
      "2355    0.525617\n",
      "4555    0.599979\n",
      "Name: ROAB, Length: 1364, dtype: float64> <bound method NDFrame._add_numeric_operations.<locals>.std of 4929    0.513143\n",
      "6424    0.552706\n",
      "3807    0.559880\n",
      "2011    0.580491\n",
      "6728    0.533326\n",
      "          ...   \n",
      "6363    0.557096\n",
      "348     0.534022\n",
      "5397    0.566519\n",
      "2355    0.525617\n",
      "4555    0.599979\n",
      "Name: ROAB, Length: 1364, dtype: float64>\n",
      "###############dataset###############2\n",
      "<bound method NDFrame._add_numeric_operations.<locals>.mean of 4929    0.000000\n",
      "6424    0.061039\n",
      "3807    0.240004\n",
      "2011    0.000000\n",
      "6728    0.564328\n",
      "          ...   \n",
      "6363    0.037453\n",
      "348     0.002227\n",
      "5397    0.138880\n",
      "2355    0.095253\n",
      "4555    0.151534\n",
      "Name: TRA, Length: 1364, dtype: float64> <bound method NDFrame._add_numeric_operations.<locals>.std of 4929    0.000000\n",
      "6424    0.061039\n",
      "3807    0.240004\n",
      "2011    0.000000\n",
      "6728    0.564328\n",
      "          ...   \n",
      "6363    0.037453\n",
      "348     0.002227\n",
      "5397    0.138880\n",
      "2355    0.095253\n",
      "4555    0.151534\n",
      "Name: TRA, Length: 1364, dtype: float64>\n",
      "###############dataset###############2\n",
      "<bound method NDFrame._add_numeric_operations.<locals>.mean of 4929    4.580000e+09\n",
      "6424    7.300000e+09\n",
      "3807    5.500000e+09\n",
      "2011    6.510000e+09\n",
      "6728    9.400000e+09\n",
      "            ...     \n",
      "6363    7.210000e+08\n",
      "348     6.100000e+09\n",
      "5397    7.590000e+09\n",
      "2355    5.790000e+09\n",
      "4555    1.211416e-04\n",
      "Name: TAGR, Length: 1364, dtype: float64> <bound method NDFrame._add_numeric_operations.<locals>.std of 4929    4.580000e+09\n",
      "6424    7.300000e+09\n",
      "3807    5.500000e+09\n",
      "2011    6.510000e+09\n",
      "6728    9.400000e+09\n",
      "            ...     \n",
      "6363    7.210000e+08\n",
      "348     6.100000e+09\n",
      "5397    7.590000e+09\n",
      "2355    5.790000e+09\n",
      "4555    1.211416e-04\n",
      "Name: TAGR, Length: 1364, dtype: float64>\n",
      "###############dataset###############2\n",
      "<bound method NDFrame._add_numeric_operations.<locals>.mean of 4929    0.076579\n",
      "6424    0.100251\n",
      "3807    0.051607\n",
      "2011    0.085074\n",
      "6728    0.161865\n",
      "          ...   \n",
      "6363    0.125435\n",
      "348     0.100342\n",
      "5397    0.087704\n",
      "2355    0.103546\n",
      "4555    0.129728\n",
      "Name: DR, Length: 1364, dtype: float64> <bound method NDFrame._add_numeric_operations.<locals>.std of 4929    0.076579\n",
      "6424    0.100251\n",
      "3807    0.051607\n",
      "2011    0.085074\n",
      "6728    0.161865\n",
      "          ...   \n",
      "6363    0.125435\n",
      "348     0.100342\n",
      "5397    0.087704\n",
      "2355    0.103546\n",
      "4555    0.129728\n",
      "Name: DR, Length: 1364, dtype: float64>\n",
      "###############dataset###############2\n",
      "<bound method NDFrame._add_numeric_operations.<locals>.mean of 4929    0.776779\n",
      "6424    0.887104\n",
      "3807    0.781625\n",
      "2011    0.878706\n",
      "6728    0.769527\n",
      "          ...   \n",
      "6363    0.732886\n",
      "348     0.733177\n",
      "5397    0.852405\n",
      "2355    0.764779\n",
      "4555    0.862641\n",
      "Name: WKTA, Length: 1364, dtype: float64> <bound method NDFrame._add_numeric_operations.<locals>.std of 4929    0.776779\n",
      "6424    0.887104\n",
      "3807    0.781625\n",
      "2011    0.878706\n",
      "6728    0.769527\n",
      "          ...   \n",
      "6363    0.732886\n",
      "348     0.733177\n",
      "5397    0.852405\n",
      "2355    0.764779\n",
      "4555    0.862641\n",
      "Name: WKTA, Length: 1364, dtype: float64>\n",
      "###############dataset###############2\n",
      "<bound method NDFrame._add_numeric_operations.<locals>.mean of 4929    0.109339\n",
      "6424    0.110759\n",
      "3807    0.094533\n",
      "2011    0.135136\n",
      "6728    0.022242\n",
      "          ...   \n",
      "6363    0.010823\n",
      "348     0.040476\n",
      "5397    0.219848\n",
      "2355    0.002929\n",
      "4555    0.065304\n",
      "Name: CTA, Length: 1364, dtype: float64> <bound method NDFrame._add_numeric_operations.<locals>.std of 4929    0.109339\n",
      "6424    0.110759\n",
      "3807    0.094533\n",
      "2011    0.135136\n",
      "6728    0.022242\n",
      "          ...   \n",
      "6363    0.010823\n",
      "348     0.040476\n",
      "5397    0.219848\n",
      "2355    0.002929\n",
      "4555    0.065304\n",
      "Name: CTA, Length: 1364, dtype: float64>\n",
      "###############dataset###############2\n",
      "<bound method NDFrame._add_numeric_operations.<locals>.mean of 4929    0.066707\n",
      "6424    0.106574\n",
      "3807    0.049337\n",
      "2011    0.043740\n",
      "6728    0.123328\n",
      "          ...   \n",
      "6363    0.098481\n",
      "348     0.085795\n",
      "5397    0.085124\n",
      "2355    0.108348\n",
      "4555    0.108416\n",
      "Name: CLA, Length: 1364, dtype: float64> <bound method NDFrame._add_numeric_operations.<locals>.std of 4929    0.066707\n",
      "6424    0.106574\n",
      "3807    0.049337\n",
      "2011    0.043740\n",
      "6728    0.123328\n",
      "          ...   \n",
      "6363    0.098481\n",
      "348     0.085795\n",
      "5397    0.085124\n",
      "2355    0.108348\n",
      "4555    0.108416\n",
      "Name: CLA, Length: 1364, dtype: float64>\n",
      "###############dataset###############2\n",
      "<bound method NDFrame._add_numeric_operations.<locals>.mean of 4929    0.597398\n",
      "6424    0.576943\n",
      "3807    0.628163\n",
      "2011    0.580226\n",
      "6728    0.606116\n",
      "          ...   \n",
      "6363    0.595624\n",
      "348     0.572275\n",
      "5397    0.608088\n",
      "2355    0.571229\n",
      "4555    0.523495\n",
      "Name: CFOA, Length: 1364, dtype: float64> <bound method NDFrame._add_numeric_operations.<locals>.std of 4929    0.597398\n",
      "6424    0.576943\n",
      "3807    0.628163\n",
      "2011    0.580226\n",
      "6728    0.606116\n",
      "          ...   \n",
      "6363    0.595624\n",
      "348     0.572275\n",
      "5397    0.608088\n",
      "2355    0.571229\n",
      "4555    0.523495\n",
      "Name: CFOA, Length: 1364, dtype: float64>\n",
      "###############dataset###############2\n",
      "<bound method NDFrame._add_numeric_operations.<locals>.mean of 4929    0.033529\n",
      "6424    0.019727\n",
      "3807    0.028315\n",
      "2011    0.011149\n",
      "6728    0.041220\n",
      "          ...   \n",
      "6363    0.060491\n",
      "348     0.062489\n",
      "5397    0.020549\n",
      "2355    0.042129\n",
      "4555    0.022293\n",
      "Name: CLCA, Length: 1364, dtype: float64> <bound method NDFrame._add_numeric_operations.<locals>.std of 4929    0.033529\n",
      "6424    0.019727\n",
      "3807    0.028315\n",
      "2011    0.011149\n",
      "6728    0.041220\n",
      "          ...   \n",
      "6363    0.060491\n",
      "348     0.062489\n",
      "5397    0.020549\n",
      "2355    0.042129\n",
      "4555    0.022293\n",
      "Name: CLCA, Length: 1364, dtype: float64>\n",
      "###############dataset###############2\n",
      "<bound method NDFrame._add_numeric_operations.<locals>.mean of 4929    0.752604\n",
      "6424    0.811104\n",
      "3807    0.799854\n",
      "2011    0.830860\n",
      "6728    0.800780\n",
      "          ...   \n",
      "6363    0.817584\n",
      "348     0.801731\n",
      "5397    0.818974\n",
      "2355    0.798702\n",
      "4555    0.832247\n",
      "Name: NITA, Length: 1364, dtype: float64> <bound method NDFrame._add_numeric_operations.<locals>.std of 4929    0.752604\n",
      "6424    0.811104\n",
      "3807    0.799854\n",
      "2011    0.830860\n",
      "6728    0.800780\n",
      "          ...   \n",
      "6363    0.817584\n",
      "348     0.801731\n",
      "5397    0.818974\n",
      "2355    0.798702\n",
      "4555    0.832247\n",
      "Name: NITA, Length: 1364, dtype: float64>\n",
      "###############dataset###############2\n",
      "<bound method NDFrame._add_numeric_operations.<locals>.mean of 4929    0.481207\n",
      "6424    0.501828\n",
      "3807    0.517574\n",
      "2011    0.521669\n",
      "6728    0.492176\n",
      "          ...   \n",
      "6363    0.503681\n",
      "348     0.480086\n",
      "5397    0.515575\n",
      "2355    0.473895\n",
      "4555    0.552381\n",
      "Name: ROAC, Length: 1364, dtype: float64> <bound method NDFrame._add_numeric_operations.<locals>.std of 4929    0.481207\n",
      "6424    0.501828\n",
      "3807    0.517574\n",
      "2011    0.521669\n",
      "6728    0.492176\n",
      "          ...   \n",
      "6363    0.503681\n",
      "348     0.480086\n",
      "5397    0.515575\n",
      "2355    0.473895\n",
      "4555    0.552381\n",
      "Name: ROAC, Length: 1364, dtype: float64>\n",
      "###############dataset###############3\n",
      "<bound method NDFrame._add_numeric_operations.<locals>.mean of 4929    0.469418\n",
      "6424    0.557894\n",
      "3807    0.537505\n",
      "2011    0.596162\n",
      "6728    0.544320\n",
      "          ...   \n",
      "6363    0.572231\n",
      "348     0.544374\n",
      "5397    0.572885\n",
      "2355    0.538378\n",
      "4555    0.610554\n",
      "Name: ROAA, Length: 1364, dtype: float64> <bound method NDFrame._add_numeric_operations.<locals>.std of 4929    0.469418\n",
      "6424    0.557894\n",
      "3807    0.537505\n",
      "2011    0.596162\n",
      "6728    0.544320\n",
      "          ...   \n",
      "6363    0.572231\n",
      "348     0.544374\n",
      "5397    0.572885\n",
      "2355    0.538378\n",
      "4555    0.610554\n",
      "Name: ROAA, Length: 1364, dtype: float64>\n",
      "###############dataset###############3\n",
      "<bound method NDFrame._add_numeric_operations.<locals>.mean of 4929    0.513143\n",
      "6424    0.552706\n",
      "3807    0.559880\n",
      "2011    0.580491\n",
      "6728    0.533326\n",
      "          ...   \n",
      "6363    0.557096\n",
      "348     0.534022\n",
      "5397    0.566519\n",
      "2355    0.525617\n",
      "4555    0.599979\n",
      "Name: ROAB, Length: 1364, dtype: float64> <bound method NDFrame._add_numeric_operations.<locals>.std of 4929    0.513143\n",
      "6424    0.552706\n",
      "3807    0.559880\n",
      "2011    0.580491\n",
      "6728    0.533326\n",
      "          ...   \n",
      "6363    0.557096\n",
      "348     0.534022\n",
      "5397    0.566519\n",
      "2355    0.525617\n",
      "4555    0.599979\n",
      "Name: ROAB, Length: 1364, dtype: float64>\n",
      "###############dataset###############3\n",
      "<bound method NDFrame._add_numeric_operations.<locals>.mean of 4929    0.000000\n",
      "6424    0.061039\n",
      "3807    0.240004\n",
      "2011    0.000000\n",
      "6728    0.564328\n",
      "          ...   \n",
      "6363    0.037453\n",
      "348     0.002227\n",
      "5397    0.138880\n",
      "2355    0.095253\n",
      "4555    0.151534\n",
      "Name: TRA, Length: 1364, dtype: float64> <bound method NDFrame._add_numeric_operations.<locals>.std of 4929    0.000000\n",
      "6424    0.061039\n",
      "3807    0.240004\n",
      "2011    0.000000\n",
      "6728    0.564328\n",
      "          ...   \n",
      "6363    0.037453\n",
      "348     0.002227\n",
      "5397    0.138880\n",
      "2355    0.095253\n",
      "4555    0.151534\n",
      "Name: TRA, Length: 1364, dtype: float64>\n",
      "###############dataset###############3\n",
      "<bound method NDFrame._add_numeric_operations.<locals>.mean of 4929    4.580000e+09\n",
      "6424    7.300000e+09\n",
      "3807    5.500000e+09\n",
      "2011    6.510000e+09\n",
      "6728    9.400000e+09\n",
      "            ...     \n",
      "6363    7.210000e+08\n",
      "348     6.100000e+09\n",
      "5397    7.590000e+09\n",
      "2355    5.790000e+09\n",
      "4555    1.211416e-04\n",
      "Name: TAGR, Length: 1364, dtype: float64> <bound method NDFrame._add_numeric_operations.<locals>.std of 4929    4.580000e+09\n",
      "6424    7.300000e+09\n",
      "3807    5.500000e+09\n",
      "2011    6.510000e+09\n",
      "6728    9.400000e+09\n",
      "            ...     \n",
      "6363    7.210000e+08\n",
      "348     6.100000e+09\n",
      "5397    7.590000e+09\n",
      "2355    5.790000e+09\n",
      "4555    1.211416e-04\n",
      "Name: TAGR, Length: 1364, dtype: float64>\n",
      "###############dataset###############3\n",
      "<bound method NDFrame._add_numeric_operations.<locals>.mean of 4929    0.076579\n",
      "6424    0.100251\n",
      "3807    0.051607\n",
      "2011    0.085074\n",
      "6728    0.161865\n",
      "          ...   \n",
      "6363    0.125435\n",
      "348     0.100342\n",
      "5397    0.087704\n",
      "2355    0.103546\n",
      "4555    0.129728\n",
      "Name: DR, Length: 1364, dtype: float64> <bound method NDFrame._add_numeric_operations.<locals>.std of 4929    0.076579\n",
      "6424    0.100251\n",
      "3807    0.051607\n",
      "2011    0.085074\n",
      "6728    0.161865\n",
      "          ...   \n",
      "6363    0.125435\n",
      "348     0.100342\n",
      "5397    0.087704\n",
      "2355    0.103546\n",
      "4555    0.129728\n",
      "Name: DR, Length: 1364, dtype: float64>\n",
      "###############dataset###############3\n",
      "<bound method NDFrame._add_numeric_operations.<locals>.mean of 4929    0.776779\n",
      "6424    0.887104\n",
      "3807    0.781625\n",
      "2011    0.878706\n",
      "6728    0.769527\n",
      "          ...   \n",
      "6363    0.732886\n",
      "348     0.733177\n",
      "5397    0.852405\n",
      "2355    0.764779\n",
      "4555    0.862641\n",
      "Name: WKTA, Length: 1364, dtype: float64> <bound method NDFrame._add_numeric_operations.<locals>.std of 4929    0.776779\n",
      "6424    0.887104\n",
      "3807    0.781625\n",
      "2011    0.878706\n",
      "6728    0.769527\n",
      "          ...   \n",
      "6363    0.732886\n",
      "348     0.733177\n",
      "5397    0.852405\n",
      "2355    0.764779\n",
      "4555    0.862641\n",
      "Name: WKTA, Length: 1364, dtype: float64>\n",
      "###############dataset###############3\n",
      "<bound method NDFrame._add_numeric_operations.<locals>.mean of 4929    0.109339\n",
      "6424    0.110759\n",
      "3807    0.094533\n",
      "2011    0.135136\n",
      "6728    0.022242\n",
      "          ...   \n",
      "6363    0.010823\n",
      "348     0.040476\n",
      "5397    0.219848\n",
      "2355    0.002929\n",
      "4555    0.065304\n",
      "Name: CTA, Length: 1364, dtype: float64> <bound method NDFrame._add_numeric_operations.<locals>.std of 4929    0.109339\n",
      "6424    0.110759\n",
      "3807    0.094533\n",
      "2011    0.135136\n",
      "6728    0.022242\n",
      "          ...   \n",
      "6363    0.010823\n",
      "348     0.040476\n",
      "5397    0.219848\n",
      "2355    0.002929\n",
      "4555    0.065304\n",
      "Name: CTA, Length: 1364, dtype: float64>\n",
      "###############dataset###############3\n",
      "<bound method NDFrame._add_numeric_operations.<locals>.mean of 4929    0.066707\n",
      "6424    0.106574\n",
      "3807    0.049337\n",
      "2011    0.043740\n",
      "6728    0.123328\n",
      "          ...   \n",
      "6363    0.098481\n",
      "348     0.085795\n",
      "5397    0.085124\n",
      "2355    0.108348\n",
      "4555    0.108416\n",
      "Name: CLA, Length: 1364, dtype: float64> <bound method NDFrame._add_numeric_operations.<locals>.std of 4929    0.066707\n",
      "6424    0.106574\n",
      "3807    0.049337\n",
      "2011    0.043740\n",
      "6728    0.123328\n",
      "          ...   \n",
      "6363    0.098481\n",
      "348     0.085795\n",
      "5397    0.085124\n",
      "2355    0.108348\n",
      "4555    0.108416\n",
      "Name: CLA, Length: 1364, dtype: float64>\n",
      "###############dataset###############3\n",
      "<bound method NDFrame._add_numeric_operations.<locals>.mean of 4929    0.597398\n",
      "6424    0.576943\n",
      "3807    0.628163\n",
      "2011    0.580226\n",
      "6728    0.606116\n",
      "          ...   \n",
      "6363    0.595624\n",
      "348     0.572275\n",
      "5397    0.608088\n",
      "2355    0.571229\n",
      "4555    0.523495\n",
      "Name: CFOA, Length: 1364, dtype: float64> <bound method NDFrame._add_numeric_operations.<locals>.std of 4929    0.597398\n",
      "6424    0.576943\n",
      "3807    0.628163\n",
      "2011    0.580226\n",
      "6728    0.606116\n",
      "          ...   \n",
      "6363    0.595624\n",
      "348     0.572275\n",
      "5397    0.608088\n",
      "2355    0.571229\n",
      "4555    0.523495\n",
      "Name: CFOA, Length: 1364, dtype: float64>\n",
      "###############dataset###############3\n",
      "<bound method NDFrame._add_numeric_operations.<locals>.mean of 4929    0.033529\n",
      "6424    0.019727\n",
      "3807    0.028315\n",
      "2011    0.011149\n",
      "6728    0.041220\n",
      "          ...   \n",
      "6363    0.060491\n",
      "348     0.062489\n",
      "5397    0.020549\n",
      "2355    0.042129\n",
      "4555    0.022293\n",
      "Name: CLCA, Length: 1364, dtype: float64> <bound method NDFrame._add_numeric_operations.<locals>.std of 4929    0.033529\n",
      "6424    0.019727\n",
      "3807    0.028315\n",
      "2011    0.011149\n",
      "6728    0.041220\n",
      "          ...   \n",
      "6363    0.060491\n",
      "348     0.062489\n",
      "5397    0.020549\n",
      "2355    0.042129\n",
      "4555    0.022293\n",
      "Name: CLCA, Length: 1364, dtype: float64>\n",
      "###############dataset###############3\n",
      "<bound method NDFrame._add_numeric_operations.<locals>.mean of 4929    0.752604\n",
      "6424    0.811104\n",
      "3807    0.799854\n",
      "2011    0.830860\n",
      "6728    0.800780\n",
      "          ...   \n",
      "6363    0.817584\n",
      "348     0.801731\n",
      "5397    0.818974\n",
      "2355    0.798702\n",
      "4555    0.832247\n",
      "Name: NITA, Length: 1364, dtype: float64> <bound method NDFrame._add_numeric_operations.<locals>.std of 4929    0.752604\n",
      "6424    0.811104\n",
      "3807    0.799854\n",
      "2011    0.830860\n",
      "6728    0.800780\n",
      "          ...   \n",
      "6363    0.817584\n",
      "348     0.801731\n",
      "5397    0.818974\n",
      "2355    0.798702\n",
      "4555    0.832247\n",
      "Name: NITA, Length: 1364, dtype: float64>\n",
      "###############dataset###############3\n"
     ]
    },
    {
     "ename": "KeyError",
     "evalue": "'Bankrupt'",
     "output_type": "error",
     "traceback": [
      "\u001B[1;31m---------------------------------------------------------------------------\u001B[0m",
      "\u001B[1;31mKeyError\u001B[0m                                  Traceback (most recent call last)",
      "File \u001B[1;32m~\\anaconda3\\lib\\site-packages\\pandas\\core\\indexes\\base.py:3629\u001B[0m, in \u001B[0;36mIndex.get_loc\u001B[1;34m(self, key, method, tolerance)\u001B[0m\n\u001B[0;32m   3628\u001B[0m \u001B[38;5;28;01mtry\u001B[39;00m:\n\u001B[1;32m-> 3629\u001B[0m     \u001B[38;5;28;01mreturn\u001B[39;00m \u001B[38;5;28;43mself\u001B[39;49m\u001B[38;5;241;43m.\u001B[39;49m\u001B[43m_engine\u001B[49m\u001B[38;5;241;43m.\u001B[39;49m\u001B[43mget_loc\u001B[49m\u001B[43m(\u001B[49m\u001B[43mcasted_key\u001B[49m\u001B[43m)\u001B[49m\n\u001B[0;32m   3630\u001B[0m \u001B[38;5;28;01mexcept\u001B[39;00m \u001B[38;5;167;01mKeyError\u001B[39;00m \u001B[38;5;28;01mas\u001B[39;00m err:\n",
      "File \u001B[1;32m~\\anaconda3\\lib\\site-packages\\pandas\\_libs\\index.pyx:136\u001B[0m, in \u001B[0;36mpandas._libs.index.IndexEngine.get_loc\u001B[1;34m()\u001B[0m\n",
      "File \u001B[1;32m~\\anaconda3\\lib\\site-packages\\pandas\\_libs\\index.pyx:163\u001B[0m, in \u001B[0;36mpandas._libs.index.IndexEngine.get_loc\u001B[1;34m()\u001B[0m\n",
      "File \u001B[1;32mpandas\\_libs\\hashtable_class_helper.pxi:5198\u001B[0m, in \u001B[0;36mpandas._libs.hashtable.PyObjectHashTable.get_item\u001B[1;34m()\u001B[0m\n",
      "File \u001B[1;32mpandas\\_libs\\hashtable_class_helper.pxi:5206\u001B[0m, in \u001B[0;36mpandas._libs.hashtable.PyObjectHashTable.get_item\u001B[1;34m()\u001B[0m\n",
      "\u001B[1;31mKeyError\u001B[0m: 'Bankrupt'",
      "\nThe above exception was the direct cause of the following exception:\n",
      "\u001B[1;31mKeyError\u001B[0m                                  Traceback (most recent call last)",
      "Cell \u001B[1;32mIn [315], line 6\u001B[0m\n\u001B[0;32m      4\u001B[0m i \u001B[38;5;241m+\u001B[39m\u001B[38;5;241m=\u001B[39m\u001B[38;5;241m1\u001B[39m\n\u001B[0;32m      5\u001B[0m \u001B[38;5;28;01mfor\u001B[39;00m column \u001B[38;5;129;01min\u001B[39;00m dataset\u001B[38;5;241m.\u001B[39mcolumns:\n\u001B[1;32m----> 6\u001B[0m     \u001B[38;5;28mprint\u001B[39m(\u001B[43mx_test\u001B[49m\u001B[43m[\u001B[49m\u001B[43mcolumn\u001B[49m\u001B[43m]\u001B[49m\u001B[38;5;241m.\u001B[39mmean, x_test[column]\u001B[38;5;241m.\u001B[39mstd)\n\u001B[0;32m      7\u001B[0m     \u001B[38;5;28mprint\u001B[39m(\u001B[38;5;124m\"\u001B[39m\u001B[38;5;124m###############dataset###############\u001B[39m\u001B[38;5;124m\"\u001B[39m\u001B[38;5;241m+\u001B[39m\u001B[38;5;28mstr\u001B[39m(i))\n",
      "File \u001B[1;32m~\\anaconda3\\lib\\site-packages\\pandas\\core\\frame.py:3505\u001B[0m, in \u001B[0;36mDataFrame.__getitem__\u001B[1;34m(self, key)\u001B[0m\n\u001B[0;32m   3503\u001B[0m \u001B[38;5;28;01mif\u001B[39;00m \u001B[38;5;28mself\u001B[39m\u001B[38;5;241m.\u001B[39mcolumns\u001B[38;5;241m.\u001B[39mnlevels \u001B[38;5;241m>\u001B[39m \u001B[38;5;241m1\u001B[39m:\n\u001B[0;32m   3504\u001B[0m     \u001B[38;5;28;01mreturn\u001B[39;00m \u001B[38;5;28mself\u001B[39m\u001B[38;5;241m.\u001B[39m_getitem_multilevel(key)\n\u001B[1;32m-> 3505\u001B[0m indexer \u001B[38;5;241m=\u001B[39m \u001B[38;5;28;43mself\u001B[39;49m\u001B[38;5;241;43m.\u001B[39;49m\u001B[43mcolumns\u001B[49m\u001B[38;5;241;43m.\u001B[39;49m\u001B[43mget_loc\u001B[49m\u001B[43m(\u001B[49m\u001B[43mkey\u001B[49m\u001B[43m)\u001B[49m\n\u001B[0;32m   3506\u001B[0m \u001B[38;5;28;01mif\u001B[39;00m is_integer(indexer):\n\u001B[0;32m   3507\u001B[0m     indexer \u001B[38;5;241m=\u001B[39m [indexer]\n",
      "File \u001B[1;32m~\\anaconda3\\lib\\site-packages\\pandas\\core\\indexes\\base.py:3631\u001B[0m, in \u001B[0;36mIndex.get_loc\u001B[1;34m(self, key, method, tolerance)\u001B[0m\n\u001B[0;32m   3629\u001B[0m     \u001B[38;5;28;01mreturn\u001B[39;00m \u001B[38;5;28mself\u001B[39m\u001B[38;5;241m.\u001B[39m_engine\u001B[38;5;241m.\u001B[39mget_loc(casted_key)\n\u001B[0;32m   3630\u001B[0m \u001B[38;5;28;01mexcept\u001B[39;00m \u001B[38;5;167;01mKeyError\u001B[39;00m \u001B[38;5;28;01mas\u001B[39;00m err:\n\u001B[1;32m-> 3631\u001B[0m     \u001B[38;5;28;01mraise\u001B[39;00m \u001B[38;5;167;01mKeyError\u001B[39;00m(key) \u001B[38;5;28;01mfrom\u001B[39;00m \u001B[38;5;21;01merr\u001B[39;00m\n\u001B[0;32m   3632\u001B[0m \u001B[38;5;28;01mexcept\u001B[39;00m \u001B[38;5;167;01mTypeError\u001B[39;00m:\n\u001B[0;32m   3633\u001B[0m     \u001B[38;5;66;03m# If we have a listlike key, _check_indexing_error will raise\u001B[39;00m\n\u001B[0;32m   3634\u001B[0m     \u001B[38;5;66;03m#  InvalidIndexError. Otherwise we fall through and re-raise\u001B[39;00m\n\u001B[0;32m   3635\u001B[0m     \u001B[38;5;66;03m#  the TypeError.\u001B[39;00m\n\u001B[0;32m   3636\u001B[0m     \u001B[38;5;28mself\u001B[39m\u001B[38;5;241m.\u001B[39m_check_indexing_error(key)\n",
      "\u001B[1;31mKeyError\u001B[0m: 'Bankrupt'"
     ]
    }
   ],
   "source": [
    "datasets = [x_test, x_train, y_test, y_train]\n",
    "i = 1\n",
    "for dataset in datasets:\n",
    "    i +=1\n",
    "    for column in dataset.columns:\n",
    "        print(x_test[column].mean, x_test[column].std)\n",
    "        print(\"###############dataset###############\"+str(i))\n"
   ],
   "metadata": {
    "collapsed": false,
    "ExecuteTime": {
     "end_time": "2023-10-15T21:06:21.373313Z",
     "start_time": "2023-10-15T21:06:21.278864300Z"
    }
   }
  },
  {
   "cell_type": "code",
   "execution_count": 316,
   "outputs": [],
   "source": [
    "import statsmodels.api as sm\n",
    "import statsmodels.formula.api as smf"
   ],
   "metadata": {
    "collapsed": false,
    "ExecuteTime": {
     "end_time": "2023-10-15T21:06:23.116615300Z",
     "start_time": "2023-10-15T21:06:23.096795800Z"
    }
   }
  },
  {
   "cell_type": "code",
   "execution_count": 317,
   "outputs": [
    {
     "data": {
      "text/plain": "ROAC    5455\nROAA    5455\nROAB    5455\nTRA     5455\nTAGR    5455\nDR      5455\nWKTA    5455\nCTA     5455\nCLA     5455\nCFOA    5455\nCLCA    5455\nNITA    5455\ndtype: int64"
     },
     "execution_count": 317,
     "metadata": {},
     "output_type": "execute_result"
    }
   ],
   "source": [
    "bankrupt_train= pd.concat([x_train,y_train],axis=1, ignore_index=0)\n",
    "x_train.count()"
   ],
   "metadata": {
    "collapsed": false,
    "ExecuteTime": {
     "end_time": "2023-10-15T21:06:27.793055500Z",
     "start_time": "2023-10-15T21:06:27.769823Z"
    }
   }
  },
  {
   "cell_type": "code",
   "execution_count": 318,
   "outputs": [],
   "source": [
    "formula = 'Bankrupt ~ ROAC + ROAA + ROAB + TRA + TAGR + DR + WKTA + CTA + CLA + CFOA + CLCA + NITA'"
   ],
   "metadata": {
    "collapsed": false,
    "ExecuteTime": {
     "end_time": "2023-10-15T21:06:30.213557200Z",
     "start_time": "2023-10-15T21:06:30.198020500Z"
    }
   }
  },
  {
   "cell_type": "code",
   "execution_count": 319,
   "outputs": [
    {
     "name": "stdout",
     "output_type": "stream",
     "text": [
      "                 Generalized Linear Model Regression Results                  \n",
      "==============================================================================\n",
      "Dep. Variable:               Bankrupt   No. Observations:                 5455\n",
      "Model:                            GLM   Df Residuals:                     5443\n",
      "Model Family:                Binomial   Df Model:                           11\n",
      "Link Function:                  Logit   Scale:                          1.0000\n",
      "Method:                          IRLS   Log-Likelihood:                -513.79\n",
      "Date:                Sun, 15 Oct 2023   Deviance:                       1027.6\n",
      "Time:                        23:06:31   Pearson chi2:                 4.44e+06\n",
      "No. Iterations:                    10   Pseudo R-squ. (CS):            0.08988\n",
      "Covariance Type:            nonrobust                                         \n",
      "==============================================================================\n",
      "                 coef    std err          z      P>|z|      [0.025      0.975]\n",
      "------------------------------------------------------------------------------\n",
      "Intercept      6.0644      3.655      1.659      0.097      -1.099      13.228\n",
      "ROAC         -11.3247      7.788     -1.454      0.146     -26.589       3.940\n",
      "ROAA          -1.5478      6.154     -0.252      0.801     -13.609      10.513\n",
      "ROAB          -3.5475      8.761     -0.405      0.686     -20.718      13.623\n",
      "TRA           -1.7574      0.973     -1.807      0.071      -3.664       0.149\n",
      "TAGR        3.738e-11   3.79e-11      0.985      0.324    -3.7e-11    1.12e-10\n",
      "DR            20.5210      2.743      7.480      0.000      15.144      25.898\n",
      "WKTA          -4.9171      2.429     -2.024      0.043      -9.678      -0.156\n",
      "CTA           -6.7206      1.708     -3.934      0.000     -10.068      -3.373\n",
      "CLA           -6.6835      2.378     -2.810      0.005     -11.345      -2.022\n",
      "CFOA           2.7174      1.772      1.534      0.125      -0.755       6.190\n",
      "CLCA           0.5781      2.178      0.265      0.791      -3.690       4.847\n",
      "NITA          -1.3517      6.213     -0.218      0.828     -13.529      10.825\n",
      "==============================================================================\n"
     ]
    }
   ],
   "source": [
    "model = smf.glm(formula=formula, data=bankrupt_train, family=sm.families.Binomial())\n",
    "logreg = model.fit()\n",
    "print(logreg.summary())"
   ],
   "metadata": {
    "collapsed": false,
    "ExecuteTime": {
     "end_time": "2023-10-15T21:06:31.763517300Z",
     "start_time": "2023-10-15T21:06:31.685496500Z"
    }
   }
  },
  {
   "cell_type": "markdown",
   "source": [
    "DR: The p-value for DR is very small (p < 0.001), indicating that DR is statistically significant at the 0.05 significance level.\n",
    "WKTA: The p-value for WKTA is 0.043, which is less than 0.05, making WKTA statistically significant.\n",
    "CTA: The p-value for CTA is very small (p < 0.001), suggesting that CTA is statistically significant.\n",
    "CLA: The p-value for CLA is 0.005, which is less than 0.05, making CLA statistically significant."
   ],
   "metadata": {
    "collapsed": false
   }
  },
  {
   "cell_type": "markdown",
   "source": [
    "The absolute value of coeeficient of DR is the largest one in the model which means it has a very big weight into the prediction (20.5210)\n",
    "Followed by CTA and CLA around 6.7 meaning they have equivalent weight in the prediction\n",
    "and finally WKTA around 4"
   ],
   "metadata": {
    "collapsed": false
   }
  },
  {
   "cell_type": "markdown",
   "source": [
    "2.2.2"
   ],
   "metadata": {
    "collapsed": false
   }
  },
  {
   "cell_type": "code",
   "execution_count": 320,
   "outputs": [
    {
     "name": "stdout",
     "output_type": "stream",
     "text": [
      "1524    0.018523\n",
      "2819    0.011718\n",
      "1957    0.003200\n",
      "5020    0.000507\n",
      "4443    0.010251\n",
      "          ...   \n",
      "4931    0.035072\n",
      "3264    0.000354\n",
      "1653    0.002176\n",
      "2607    0.001122\n",
      "2732    0.001647\n",
      "Length: 5455, dtype: float64\n"
     ]
    }
   ],
   "source": [
    "print(logreg.fittedvalues)"
   ],
   "metadata": {
    "collapsed": false,
    "ExecuteTime": {
     "end_time": "2023-10-15T21:06:54.200881Z",
     "start_time": "2023-10-15T21:06:54.189849300Z"
    }
   }
  },
  {
   "cell_type": "code",
   "execution_count": 321,
   "outputs": [
    {
     "data": {
      "text/plain": "1524    0.018523\n2819    0.011718\n1957    0.003200\n5020    0.000507\n4443    0.010251\n          ...   \n4931    0.035072\n3264    0.000354\n1653    0.002176\n2607    0.001122\n2732    0.001647\nLength: 5455, dtype: float64"
     },
     "execution_count": 321,
     "metadata": {},
     "output_type": "execute_result"
    }
   ],
   "source": [
    "yhat_logreg_probs = logreg.fittedvalues\n",
    "yhat_logreg_probs"
   ],
   "metadata": {
    "collapsed": false,
    "ExecuteTime": {
     "end_time": "2023-10-15T21:06:56.960880Z",
     "start_time": "2023-10-15T21:06:56.942639700Z"
    }
   }
  },
  {
   "cell_type": "code",
   "execution_count": 322,
   "outputs": [
    {
     "name": "stdout",
     "output_type": "stream",
     "text": [
      "Number of companies predicted by the model to bankrupted into the train data set 46\n"
     ]
    }
   ],
   "source": [
    "yhat = [ 1 if x > 0.5 else 0 for x in yhat_logreg_probs]\n",
    "print(\"Number of companies predicted by the model to bankrupted into the train data set\", sum(yhat))"
   ],
   "metadata": {
    "collapsed": false,
    "ExecuteTime": {
     "end_time": "2023-10-15T21:06:58.308667900Z",
     "start_time": "2023-10-15T21:06:58.302212400Z"
    }
   }
  },
  {
   "cell_type": "code",
   "execution_count": 323,
   "outputs": [
    {
     "name": "stdout",
     "output_type": "stream",
     "text": [
      "confusion matrix\n",
      "[[5266  143]\n",
      " [  15   31]]\n"
     ]
    }
   ],
   "source": [
    "from sklearn . metrics import confusion_matrix , classification_report\n",
    "print(\"confusion matrix\")\n",
    "print(confusion_matrix(yhat,y_train))"
   ],
   "metadata": {
    "collapsed": false,
    "ExecuteTime": {
     "end_time": "2023-10-15T21:07:00.889560500Z",
     "start_time": "2023-10-15T21:07:00.841282800Z"
    }
   }
  },
  {
   "cell_type": "markdown",
   "source": [
    "C[0,0] = true positive -> Has bankrupted , C[0,1] false positive\n",
    "C[1,0] = false negative -> Has bankrupted  , C[1,1] = true negative"
   ],
   "metadata": {
    "collapsed": false
   }
  },
  {
   "cell_type": "code",
   "execution_count": 324,
   "outputs": [
    {
     "name": "stdout",
     "output_type": "stream",
     "text": [
      "              precision    recall  f1-score   support\n",
      "\n",
      "           0      0.997     0.974     0.985      5409\n",
      "           1      0.178     0.674     0.282        46\n",
      "\n",
      "    accuracy                          0.971      5455\n",
      "   macro avg      0.588     0.824     0.634      5455\n",
      "weighted avg      0.990     0.971     0.979      5455\n",
      "\n"
     ]
    }
   ],
   "source": [
    "print(classification_report(yhat,y_train,digits=3))"
   ],
   "metadata": {
    "collapsed": false,
    "ExecuteTime": {
     "end_time": "2023-10-15T21:07:13.743167100Z",
     "start_time": "2023-10-15T21:07:13.695495100Z"
    }
   }
  },
  {
   "cell_type": "markdown",
   "source": [
    "Precision (for class 0): Precision measures the accuracy of the positive predictions for class 0. In this case, it's 0.997. This means that 99.7% of the instances predicted as non-bankrupt (class 0) were correctly classified.\n",
    "\n",
    "Recall (for class 0): Recall, also known as sensitivity or true positive rate, measures the ability of the model to correctly identify actual class 0 instances. It's 0.974, indicating that 97.4% of actual non-bankrupt instances were correctly classified.\n",
    "\n"
   ],
   "metadata": {
    "collapsed": false
   }
  },
  {
   "cell_type": "markdown",
   "source": [
    "F1-Score (for class 0): The F1-score is the harmonic mean of precision and recall. It's a balanced metric that considers both false positives and false negatives. For class 0, the F1-score is 0.985, indicating a high balance between precision and recall.\n",
    "\n",
    "Precision (for class 1): Precision for class 1 is 0.178, meaning that 17.8% of the instances predicted as bankrupt (class 1) were correctly classified.\n",
    "\n",
    "Recall (for class 1): Recall for class 1 is 0.674, suggesting that 67.4% of actual bankrupt instances were correctly classified.\n",
    "\n",
    "F1-Score (for class 1): The F1-score for class 1 is 0.282, reflecting the balance between precision and recall for class 1.\n",
    "\n",
    "Accuracy: Overall model accuracy is 0.971, which means that 97.1% of all instances were correctly classified.\n",
    "\n",
    "Macro Avg: This is the average of precision, recall, and F1-score for both classes. In your case, it's 0.588 for precision, 0.824 for recall, and 0.634 for F1-score.\n",
    "\n",
    "Weighted Avg: This is a weighted average of precision, recall, and F1-score, taking into account the support (number of instances) for each class. In your case, it's 0.990 for precision, 0.971 for recall, and 0.979 for F1-score."
   ],
   "metadata": {
    "collapsed": false
   }
  },
  {
   "cell_type": "markdown",
   "source": [
    "In summary, the model has high precision, recall, and F1-score for class 0, indicating that it performs well in classifying non-bankrupt instances. However, for class 1 (bankrupt instances), the model has lower precision, recall, and F1-score, indicating that it struggles to correctly classify bankrupt instances and often produces false negatives. This imbalance in performance may be due to the class distribution and suggests room for improvement in classifying bankrupt cases."
   ],
   "metadata": {
    "collapsed": false
   }
  },
  {
   "cell_type": "code",
   "execution_count": 325,
   "outputs": [
    {
     "name": "stdout",
     "output_type": "stream",
     "text": [
      "Number of companies predicted by the model to bankrupted into the test data set 19\n"
     ]
    }
   ],
   "source": [
    "y_test_probs = logreg.predict(x_test)\n",
    "yhat_test = [ 1 if x > 0.5 else 0 for x in y_test_probs]\n",
    "print(\"Number of companies predicted by the model to bankrupted into the test data set\", sum(yhat_test))"
   ],
   "metadata": {
    "collapsed": false,
    "ExecuteTime": {
     "end_time": "2023-10-15T21:07:26.616576300Z",
     "start_time": "2023-10-15T21:07:26.575059700Z"
    }
   }
  },
  {
   "cell_type": "code",
   "execution_count": 327,
   "outputs": [
    {
     "name": "stdout",
     "output_type": "stream",
     "text": [
      "confusion matrix\n",
      "[[1306   39]\n",
      " [  12    7]]\n"
     ]
    }
   ],
   "source": [
    "print(\"confusion matrix\")\n",
    "print(confusion_matrix(yhat_test,y_test))"
   ],
   "metadata": {
    "collapsed": false,
    "ExecuteTime": {
     "end_time": "2023-10-15T21:07:37.638893500Z",
     "start_time": "2023-10-15T21:07:37.620686700Z"
    }
   }
  },
  {
   "cell_type": "code",
   "execution_count": 328,
   "outputs": [
    {
     "name": "stdout",
     "output_type": "stream",
     "text": [
      "              precision    recall  f1-score   support\n",
      "\n",
      "           0      0.991     0.971     0.981      1345\n",
      "           1      0.152     0.368     0.215        19\n",
      "\n",
      "    accuracy                          0.963      1364\n",
      "   macro avg      0.572     0.670     0.598      1364\n",
      "weighted avg      0.979     0.963     0.970      1364\n",
      "\n"
     ]
    }
   ],
   "source": [
    "print(classification_report(yhat_test,y_test,digits=3))"
   ],
   "metadata": {
    "collapsed": false,
    "ExecuteTime": {
     "end_time": "2023-10-15T21:07:41.817150500Z",
     "start_time": "2023-10-15T21:07:41.735126900Z"
    }
   }
  },
  {
   "cell_type": "markdown",
   "source": [
    "2.2.3 The most relevants metrics for this type of problems are percentage of false negative because it affects banks, and percentage of true negative. So precision of class 1 and recall of class 1"
   ],
   "metadata": {
    "collapsed": false
   }
  },
  {
   "cell_type": "code",
   "execution_count": 192,
   "outputs": [],
   "source": [
    "#2.3 K-Nearest Neighbors"
   ],
   "metadata": {
    "collapsed": false,
    "ExecuteTime": {
     "end_time": "2023-10-15T20:37:14.368445Z",
     "start_time": "2023-10-15T20:37:14.346558Z"
    }
   }
  },
  {
   "cell_type": "code",
   "execution_count": 336,
   "outputs": [
    {
     "name": "stderr",
     "output_type": "stream",
     "text": [
      "C:\\Users\\willc\\anaconda3\\lib\\site-packages\\sklearn\\neighbors\\_classification.py:228: FutureWarning: Unlike other reduction functions (e.g. `skew`, `kurtosis`), the default behavior of `mode` typically preserves the axis it acts along. In SciPy 1.11.0, this behavior will change: the default value of `keepdims` will become False, the `axis` over which the statistic is taken will be eliminated, and the value None will no longer be accepted. Set `keepdims` to True or False to avoid this warning.\n",
      "  mode, _ = stats.mode(_y[neigh_ind, k], axis=1)\n"
     ]
    }
   ],
   "source": [
    "from sklearn.neighbors import KNeighborsClassifier\n",
    "from sklearn.metrics import balanced_accuracy_score\n",
    "import numpy as np\n",
    "neigh = KNeighborsClassifier(n_neighbors=1)\n",
    "neigh.fit(x_train,np.ravel(y_train))\n",
    "knn=neigh.predict(x_test)"
   ],
   "metadata": {
    "collapsed": false,
    "ExecuteTime": {
     "end_time": "2023-10-15T21:14:09.720276200Z",
     "start_time": "2023-10-15T21:14:09.648339200Z"
    }
   }
  },
  {
   "cell_type": "code",
   "execution_count": 340,
   "outputs": [
    {
     "data": {
      "text/plain": "array([0, 0, 0, ..., 0, 0, 0], dtype=int64)"
     },
     "execution_count": 340,
     "metadata": {},
     "output_type": "execute_result"
    }
   ],
   "source": [
    "knn"
   ],
   "metadata": {
    "collapsed": false,
    "ExecuteTime": {
     "end_time": "2023-10-15T21:16:07.632535400Z",
     "start_time": "2023-10-15T21:16:07.615283100Z"
    }
   }
  },
  {
   "cell_type": "code",
   "execution_count": 355,
   "outputs": [],
   "source": [
    "avg_accuracy = []"
   ],
   "metadata": {
    "collapsed": false,
    "ExecuteTime": {
     "end_time": "2023-10-15T21:21:46.951811500Z",
     "start_time": "2023-10-15T21:21:46.941809400Z"
    }
   }
  },
  {
   "cell_type": "code",
   "execution_count": 356,
   "outputs": [
    {
     "name": "stderr",
     "output_type": "stream",
     "text": [
      "C:\\Users\\willc\\anaconda3\\lib\\site-packages\\sklearn\\neighbors\\_classification.py:228: FutureWarning: Unlike other reduction functions (e.g. `skew`, `kurtosis`), the default behavior of `mode` typically preserves the axis it acts along. In SciPy 1.11.0, this behavior will change: the default value of `keepdims` will become False, the `axis` over which the statistic is taken will be eliminated, and the value None will no longer be accepted. Set `keepdims` to True or False to avoid this warning.\n",
      "  mode, _ = stats.mode(_y[neigh_ind, k], axis=1)\n",
      "C:\\Users\\willc\\anaconda3\\lib\\site-packages\\sklearn\\neighbors\\_classification.py:228: FutureWarning: Unlike other reduction functions (e.g. `skew`, `kurtosis`), the default behavior of `mode` typically preserves the axis it acts along. In SciPy 1.11.0, this behavior will change: the default value of `keepdims` will become False, the `axis` over which the statistic is taken will be eliminated, and the value None will no longer be accepted. Set `keepdims` to True or False to avoid this warning.\n",
      "  mode, _ = stats.mode(_y[neigh_ind, k], axis=1)\n",
      "C:\\Users\\willc\\anaconda3\\lib\\site-packages\\sklearn\\neighbors\\_classification.py:228: FutureWarning: Unlike other reduction functions (e.g. `skew`, `kurtosis`), the default behavior of `mode` typically preserves the axis it acts along. In SciPy 1.11.0, this behavior will change: the default value of `keepdims` will become False, the `axis` over which the statistic is taken will be eliminated, and the value None will no longer be accepted. Set `keepdims` to True or False to avoid this warning.\n",
      "  mode, _ = stats.mode(_y[neigh_ind, k], axis=1)\n",
      "C:\\Users\\willc\\anaconda3\\lib\\site-packages\\sklearn\\neighbors\\_classification.py:228: FutureWarning: Unlike other reduction functions (e.g. `skew`, `kurtosis`), the default behavior of `mode` typically preserves the axis it acts along. In SciPy 1.11.0, this behavior will change: the default value of `keepdims` will become False, the `axis` over which the statistic is taken will be eliminated, and the value None will no longer be accepted. Set `keepdims` to True or False to avoid this warning.\n",
      "  mode, _ = stats.mode(_y[neigh_ind, k], axis=1)\n",
      "C:\\Users\\willc\\anaconda3\\lib\\site-packages\\sklearn\\neighbors\\_classification.py:228: FutureWarning: Unlike other reduction functions (e.g. `skew`, `kurtosis`), the default behavior of `mode` typically preserves the axis it acts along. In SciPy 1.11.0, this behavior will change: the default value of `keepdims` will become False, the `axis` over which the statistic is taken will be eliminated, and the value None will no longer be accepted. Set `keepdims` to True or False to avoid this warning.\n",
      "  mode, _ = stats.mode(_y[neigh_ind, k], axis=1)\n",
      "C:\\Users\\willc\\anaconda3\\lib\\site-packages\\sklearn\\neighbors\\_classification.py:228: FutureWarning: Unlike other reduction functions (e.g. `skew`, `kurtosis`), the default behavior of `mode` typically preserves the axis it acts along. In SciPy 1.11.0, this behavior will change: the default value of `keepdims` will become False, the `axis` over which the statistic is taken will be eliminated, and the value None will no longer be accepted. Set `keepdims` to True or False to avoid this warning.\n",
      "  mode, _ = stats.mode(_y[neigh_ind, k], axis=1)\n",
      "C:\\Users\\willc\\anaconda3\\lib\\site-packages\\sklearn\\neighbors\\_classification.py:228: FutureWarning: Unlike other reduction functions (e.g. `skew`, `kurtosis`), the default behavior of `mode` typically preserves the axis it acts along. In SciPy 1.11.0, this behavior will change: the default value of `keepdims` will become False, the `axis` over which the statistic is taken will be eliminated, and the value None will no longer be accepted. Set `keepdims` to True or False to avoid this warning.\n",
      "  mode, _ = stats.mode(_y[neigh_ind, k], axis=1)\n",
      "C:\\Users\\willc\\anaconda3\\lib\\site-packages\\sklearn\\neighbors\\_classification.py:228: FutureWarning: Unlike other reduction functions (e.g. `skew`, `kurtosis`), the default behavior of `mode` typically preserves the axis it acts along. In SciPy 1.11.0, this behavior will change: the default value of `keepdims` will become False, the `axis` over which the statistic is taken will be eliminated, and the value None will no longer be accepted. Set `keepdims` to True or False to avoid this warning.\n",
      "  mode, _ = stats.mode(_y[neigh_ind, k], axis=1)\n",
      "C:\\Users\\willc\\anaconda3\\lib\\site-packages\\sklearn\\neighbors\\_classification.py:228: FutureWarning: Unlike other reduction functions (e.g. `skew`, `kurtosis`), the default behavior of `mode` typically preserves the axis it acts along. In SciPy 1.11.0, this behavior will change: the default value of `keepdims` will become False, the `axis` over which the statistic is taken will be eliminated, and the value None will no longer be accepted. Set `keepdims` to True or False to avoid this warning.\n",
      "  mode, _ = stats.mode(_y[neigh_ind, k], axis=1)\n",
      "C:\\Users\\willc\\anaconda3\\lib\\site-packages\\sklearn\\neighbors\\_classification.py:228: FutureWarning: Unlike other reduction functions (e.g. `skew`, `kurtosis`), the default behavior of `mode` typically preserves the axis it acts along. In SciPy 1.11.0, this behavior will change: the default value of `keepdims` will become False, the `axis` over which the statistic is taken will be eliminated, and the value None will no longer be accepted. Set `keepdims` to True or False to avoid this warning.\n",
      "  mode, _ = stats.mode(_y[neigh_ind, k], axis=1)\n",
      "C:\\Users\\willc\\anaconda3\\lib\\site-packages\\sklearn\\neighbors\\_classification.py:228: FutureWarning: Unlike other reduction functions (e.g. `skew`, `kurtosis`), the default behavior of `mode` typically preserves the axis it acts along. In SciPy 1.11.0, this behavior will change: the default value of `keepdims` will become False, the `axis` over which the statistic is taken will be eliminated, and the value None will no longer be accepted. Set `keepdims` to True or False to avoid this warning.\n",
      "  mode, _ = stats.mode(_y[neigh_ind, k], axis=1)\n",
      "C:\\Users\\willc\\anaconda3\\lib\\site-packages\\sklearn\\neighbors\\_classification.py:228: FutureWarning: Unlike other reduction functions (e.g. `skew`, `kurtosis`), the default behavior of `mode` typically preserves the axis it acts along. In SciPy 1.11.0, this behavior will change: the default value of `keepdims` will become False, the `axis` over which the statistic is taken will be eliminated, and the value None will no longer be accepted. Set `keepdims` to True or False to avoid this warning.\n",
      "  mode, _ = stats.mode(_y[neigh_ind, k], axis=1)\n",
      "C:\\Users\\willc\\anaconda3\\lib\\site-packages\\sklearn\\neighbors\\_classification.py:228: FutureWarning: Unlike other reduction functions (e.g. `skew`, `kurtosis`), the default behavior of `mode` typically preserves the axis it acts along. In SciPy 1.11.0, this behavior will change: the default value of `keepdims` will become False, the `axis` over which the statistic is taken will be eliminated, and the value None will no longer be accepted. Set `keepdims` to True or False to avoid this warning.\n",
      "  mode, _ = stats.mode(_y[neigh_ind, k], axis=1)\n",
      "C:\\Users\\willc\\anaconda3\\lib\\site-packages\\sklearn\\neighbors\\_classification.py:228: FutureWarning: Unlike other reduction functions (e.g. `skew`, `kurtosis`), the default behavior of `mode` typically preserves the axis it acts along. In SciPy 1.11.0, this behavior will change: the default value of `keepdims` will become False, the `axis` over which the statistic is taken will be eliminated, and the value None will no longer be accepted. Set `keepdims` to True or False to avoid this warning.\n",
      "  mode, _ = stats.mode(_y[neigh_ind, k], axis=1)\n",
      "C:\\Users\\willc\\anaconda3\\lib\\site-packages\\sklearn\\neighbors\\_classification.py:228: FutureWarning: Unlike other reduction functions (e.g. `skew`, `kurtosis`), the default behavior of `mode` typically preserves the axis it acts along. In SciPy 1.11.0, this behavior will change: the default value of `keepdims` will become False, the `axis` over which the statistic is taken will be eliminated, and the value None will no longer be accepted. Set `keepdims` to True or False to avoid this warning.\n",
      "  mode, _ = stats.mode(_y[neigh_ind, k], axis=1)\n",
      "C:\\Users\\willc\\anaconda3\\lib\\site-packages\\sklearn\\neighbors\\_classification.py:228: FutureWarning: Unlike other reduction functions (e.g. `skew`, `kurtosis`), the default behavior of `mode` typically preserves the axis it acts along. In SciPy 1.11.0, this behavior will change: the default value of `keepdims` will become False, the `axis` over which the statistic is taken will be eliminated, and the value None will no longer be accepted. Set `keepdims` to True or False to avoid this warning.\n",
      "  mode, _ = stats.mode(_y[neigh_ind, k], axis=1)\n",
      "C:\\Users\\willc\\anaconda3\\lib\\site-packages\\sklearn\\neighbors\\_classification.py:228: FutureWarning: Unlike other reduction functions (e.g. `skew`, `kurtosis`), the default behavior of `mode` typically preserves the axis it acts along. In SciPy 1.11.0, this behavior will change: the default value of `keepdims` will become False, the `axis` over which the statistic is taken will be eliminated, and the value None will no longer be accepted. Set `keepdims` to True or False to avoid this warning.\n",
      "  mode, _ = stats.mode(_y[neigh_ind, k], axis=1)\n",
      "C:\\Users\\willc\\anaconda3\\lib\\site-packages\\sklearn\\neighbors\\_classification.py:228: FutureWarning: Unlike other reduction functions (e.g. `skew`, `kurtosis`), the default behavior of `mode` typically preserves the axis it acts along. In SciPy 1.11.0, this behavior will change: the default value of `keepdims` will become False, the `axis` over which the statistic is taken will be eliminated, and the value None will no longer be accepted. Set `keepdims` to True or False to avoid this warning.\n",
      "  mode, _ = stats.mode(_y[neigh_ind, k], axis=1)\n"
     ]
    }
   ],
   "source": [
    "for k in range(2, 20):\n",
    "    neigh = KNeighborsClassifier(n_neighbors=k)\n",
    "    y_predict = neigh.fit(x_train, np.ravel(y_train)).predict(x_train)  # Make predictions\n",
    "    balanced_acc = balanced_accuracy_score(y_train, y_predict)\n",
    "    avg_accuracy.append(balanced_acc)"
   ],
   "metadata": {
    "collapsed": false,
    "ExecuteTime": {
     "end_time": "2023-10-15T21:21:50.196673300Z",
     "start_time": "2023-10-15T21:21:47.723866200Z"
    }
   }
  },
  {
   "cell_type": "code",
   "execution_count": 359,
   "outputs": [
    {
     "name": "stdout",
     "output_type": "stream",
     "text": [
      "1 : 0.5689655172413793\n",
      "2 : 0.5998172803391904\n",
      "3 : 0.5287356321839081\n",
      "4 : 0.5343880795826287\n",
      "5 : 0.5257673899274563\n",
      "6 : 0.5314198373261769\n",
      "7 : 0.5199255844526136\n",
      "8 : 0.5199255844526136\n",
      "9 : 0.514367816091954\n",
      "10 : 0.514367816091954\n",
      "11 : 0.5\n",
      "12 : 0.5025895261042079\n",
      "13 : 0.5027788841803298\n",
      "14 : 0.5024948470661469\n",
      "15 : 0.5\n",
      "16 : 0.5\n",
      "17 : 0.5\n",
      "18 : 0.5\n"
     ]
    }
   ],
   "source": [
    "for k in range(len(avg_accuracy)) :\n",
    "    print (k+1, avg_accuracy[k], sep=\" : \")"
   ],
   "metadata": {
    "collapsed": false,
    "ExecuteTime": {
     "end_time": "2023-10-15T21:23:58.060966800Z",
     "start_time": "2023-10-15T21:23:58.051612700Z"
    }
   }
  },
  {
   "cell_type": "markdown",
   "source": [
    "We have maximum for k=2"
   ],
   "metadata": {
    "collapsed": false
   }
  },
  {
   "cell_type": "markdown",
   "source": [
    "2.4 Linear discriminant analysis\n",
    "I would choose k=2"
   ],
   "metadata": {
    "collapsed": false
   }
  },
  {
   "cell_type": "code",
   "execution_count": 364,
   "outputs": [
    {
     "name": "stderr",
     "output_type": "stream",
     "text": [
      "C:\\Users\\willc\\anaconda3\\lib\\site-packages\\sklearn\\neighbors\\_classification.py:228: FutureWarning: Unlike other reduction functions (e.g. `skew`, `kurtosis`), the default behavior of `mode` typically preserves the axis it acts along. In SciPy 1.11.0, this behavior will change: the default value of `keepdims` will become False, the `axis` over which the statistic is taken will be eliminated, and the value None will no longer be accepted. Set `keepdims` to True or False to avoid this warning.\n",
      "  mode, _ = stats.mode(_y[neigh_ind, k], axis=1)\n"
     ]
    }
   ],
   "source": [
    "k=2\n",
    "neigh = KNeighborsClassifier(n_neighbors=k)\n",
    "y_predict = neigh.fit(x_train, np.ravel(y_train)).predict(x_test)"
   ],
   "metadata": {
    "collapsed": false,
    "ExecuteTime": {
     "end_time": "2023-10-15T21:29:26.794768400Z",
     "start_time": "2023-10-15T21:29:26.745587600Z"
    }
   }
  },
  {
   "cell_type": "code",
   "execution_count": 366,
   "outputs": [
    {
     "name": "stdout",
     "output_type": "stream",
     "text": [
      "confusion matrix\n",
      "[[1313   45]\n",
      " [   5    1]]\n"
     ]
    }
   ],
   "source": [
    "print(\"confusion matrix\")\n",
    "print(confusion_matrix(y_predict,y_test))"
   ],
   "metadata": {
    "collapsed": false,
    "ExecuteTime": {
     "end_time": "2023-10-15T21:30:03.417032200Z",
     "start_time": "2023-10-15T21:30:03.397684100Z"
    }
   }
  },
  {
   "cell_type": "code",
   "execution_count": 367,
   "outputs": [
    {
     "name": "stdout",
     "output_type": "stream",
     "text": [
      "              precision    recall  f1-score   support\n",
      "\n",
      "           0      0.996     0.967     0.981      1358\n",
      "           1      0.022     0.167     0.038         6\n",
      "\n",
      "    accuracy                          0.963      1364\n",
      "   macro avg      0.509     0.567     0.510      1364\n",
      "weighted avg      0.992     0.963     0.977      1364\n",
      "\n"
     ]
    }
   ],
   "source": [
    "print(classification_report(y_predict,y_test,digits=3))"
   ],
   "metadata": {
    "collapsed": false,
    "ExecuteTime": {
     "end_time": "2023-10-15T21:30:50.466095500Z",
     "start_time": "2023-10-15T21:30:50.423276Z"
    }
   }
  },
  {
   "cell_type": "markdown",
   "source": [
    "Comparing to the previous model the number of false negative has largely decrease 12 to 5\n",
    "and the number of true positive has increased a little 1306 -> 1313"
   ],
   "metadata": {
    "collapsed": false
   }
  },
  {
   "cell_type": "code",
   "execution_count": 392,
   "outputs": [],
   "source": [
    "from sklearn.discriminant_analysis import LinearDiscriminantAnalysis\n",
    "from sklearn.discriminant_analysis import QuadraticDiscriminantAnalysis\n",
    "lda = LinearDiscriminantAnalysis()\n",
    "model_lda = lda.fit(x_train,np.ravel(y_train))\n",
    "yhat_lda = model_lda.predict(x_test)"
   ],
   "metadata": {
    "collapsed": false,
    "ExecuteTime": {
     "end_time": "2023-10-15T21:58:21.924434600Z",
     "start_time": "2023-10-15T21:58:20.844882600Z"
    }
   }
  },
  {
   "cell_type": "code",
   "execution_count": 393,
   "outputs": [
    {
     "name": "stdout",
     "output_type": "stream",
     "text": [
      "[0.96810266 0.03189734]\n"
     ]
    }
   ],
   "source": [
    "print(model_lda.priors_)"
   ],
   "metadata": {
    "collapsed": false,
    "ExecuteTime": {
     "end_time": "2023-10-15T21:58:23.006481800Z",
     "start_time": "2023-10-15T21:58:22.949927300Z"
    }
   }
  },
  {
   "cell_type": "code",
   "execution_count": 394,
   "outputs": [
    {
     "name": "stdout",
     "output_type": "stream",
     "text": [
      "[[5.07499371e-01 5.61487295e-01 5.56092411e-01 1.17719099e-01\n",
      "  5.55001102e+09 1.11500340e-01 8.15420501e-01 1.25669967e-01\n",
      "  8.96077591e-02 5.93879112e-01 3.06814657e-02 8.09838677e-01]\n",
      " [4.21282047e-01 4.58457712e-01 4.65005880e-01 3.33512513e-02\n",
      "  4.96788333e+09 1.85968720e-01 7.49489244e-01 4.96204862e-02\n",
      "  1.39421993e-01 5.58209193e-01 6.24193244e-02 7.39513902e-01]]\n"
     ]
    }
   ],
   "source": [
    "print(model_lda.means_)"
   ],
   "metadata": {
    "collapsed": false,
    "ExecuteTime": {
     "end_time": "2023-10-15T21:58:24.054055Z",
     "start_time": "2023-10-15T21:58:24.025814500Z"
    }
   }
  },
  {
   "cell_type": "markdown",
   "source": [
    "2.4.2 Confusion matrix"
   ],
   "metadata": {
    "collapsed": false
   }
  },
  {
   "cell_type": "code",
   "execution_count": 381,
   "outputs": [
    {
     "name": "stdout",
     "output_type": "stream",
     "text": [
      "[[1299   31]\n",
      " [  19   15]]\n"
     ]
    }
   ],
   "source": [
    "print(confusion_matrix(yhat_lda,y_test))"
   ],
   "metadata": {
    "collapsed": false,
    "ExecuteTime": {
     "end_time": "2023-10-15T21:45:55.938002100Z",
     "start_time": "2023-10-15T21:45:55.914921100Z"
    }
   }
  },
  {
   "cell_type": "code",
   "execution_count": 383,
   "outputs": [
    {
     "name": "stdout",
     "output_type": "stream",
     "text": [
      "sensitivity=0.9855842185128983 specificity=0.32608695652173914\n"
     ]
    }
   ],
   "source": [
    "print(\"sensitivity=\" + str(1299/(1299+19)) , \"specificity=\"+ str(15/(15+31)))"
   ],
   "metadata": {
    "collapsed": false,
    "ExecuteTime": {
     "end_time": "2023-10-15T21:49:46.416165800Z",
     "start_time": "2023-10-15T21:49:46.397168600Z"
    }
   }
  },
  {
   "cell_type": "markdown",
   "source": [
    "We have a high sensitivity of our linear model and a very low speificity. Which means that when the model predict a company to be bankrupted we have a very little confidence, but if a company if a company is likely to be bankrupted we are almost sure the model will classify it bankrupted"
   ],
   "metadata": {
    "collapsed": false
   }
  },
  {
   "cell_type": "markdown",
   "source": [
    "2.3 QDA"
   ],
   "metadata": {
    "collapsed": false
   }
  },
  {
   "cell_type": "code",
   "execution_count": 413,
   "outputs": [],
   "source": [
    "qda = QuadraticDiscriminantAnalysis()\n",
    "model_qda = qda.fit(x_train,np.ravel(y_train))\n",
    "yhat_qda = model_qda.predict(x_test)"
   ],
   "metadata": {
    "collapsed": false,
    "ExecuteTime": {
     "end_time": "2023-10-15T22:13:02.496391400Z",
     "start_time": "2023-10-15T22:13:02.427596700Z"
    }
   }
  },
  {
   "cell_type": "code",
   "execution_count": 414,
   "outputs": [
    {
     "name": "stdout",
     "output_type": "stream",
     "text": [
      "[0.96810266 0.03189734]\n"
     ]
    }
   ],
   "source": [
    "print(model_qda.priors_)"
   ],
   "metadata": {
    "collapsed": false,
    "ExecuteTime": {
     "end_time": "2023-10-15T22:13:02.766211600Z",
     "start_time": "2023-10-15T22:13:02.746948300Z"
    }
   }
  },
  {
   "cell_type": "markdown",
   "source": [
    "2.4.3 Confusion matrix"
   ],
   "metadata": {
    "collapsed": false
   }
  },
  {
   "cell_type": "code",
   "execution_count": 415,
   "outputs": [
    {
     "name": "stdout",
     "output_type": "stream",
     "text": [
      "[[1280   30]\n",
      " [  38   16]]\n"
     ]
    }
   ],
   "source": [
    "print(confusion_matrix(yhat_qda,y_test))"
   ],
   "metadata": {
    "collapsed": false,
    "ExecuteTime": {
     "end_time": "2023-10-15T22:13:04.415387300Z",
     "start_time": "2023-10-15T22:13:04.394737300Z"
    }
   }
  },
  {
   "cell_type": "code",
   "execution_count": 417,
   "outputs": [
    {
     "name": "stdout",
     "output_type": "stream",
     "text": [
      "sensitivity=0.9573672400897532 specificity=0.34782608695652173\n"
     ]
    }
   ],
   "source": [
    "print(\"sensitivity=\" + str(1280/(1299+38)) , \"specificity=\"+ str(16/(16+30)))"
   ],
   "metadata": {
    "collapsed": false,
    "ExecuteTime": {
     "end_time": "2023-10-15T22:13:27.513379900Z",
     "start_time": "2023-10-15T22:13:27.490738200Z"
    }
   }
  },
  {
   "cell_type": "markdown",
   "source": [
    "2.5 ROC Curve function"
   ],
   "metadata": {
    "collapsed": false
   }
  },
  {
   "cell_type": "code",
   "execution_count": 418,
   "outputs": [],
   "source": [
    "lda_scores = lda.predict_proba(x_test)[:,1]"
   ],
   "metadata": {
    "collapsed": false,
    "ExecuteTime": {
     "end_time": "2023-10-15T22:13:29.134861200Z",
     "start_time": "2023-10-15T22:13:29.104335900Z"
    }
   }
  },
  {
   "cell_type": "code",
   "execution_count": 419,
   "outputs": [],
   "source": [
    "from sklearn.metrics import roc_curve, auc\n",
    "fpr, tpr, thresholds = roc_curve(y_test, lda_scores)\n",
    "aire = auc(fpr, tpr)"
   ],
   "metadata": {
    "collapsed": false,
    "ExecuteTime": {
     "end_time": "2023-10-15T22:13:29.588210500Z",
     "start_time": "2023-10-15T22:13:29.561199600Z"
    }
   }
  },
  {
   "cell_type": "code",
   "execution_count": 420,
   "outputs": [
    {
     "data": {
      "text/plain": "<Figure size 640x480 with 1 Axes>",
      "image/png": "[encoded data removed]"
     },
     "metadata": {},
     "output_type": "display_data"
    }
   ],
   "source": [
    "import matplotlib.pyplot as plt\n",
    "plt.figure()\n",
    "plt.plot(fpr, tpr, color='orange', lw=2, label='ROC curve (auc = %0.3f)' % aire)\n",
    "plt.plot([0, 1], [0, 1], color='navy', lw=2, linestyle='--')\n",
    "plt.xlim([0.0, 1.0])\n",
    "plt.ylim([0.0, 1.05])\n",
    "plt.xlabel('False Positive Rate')\n",
    "plt.ylabel('True Positive Rate')\n",
    "plt.title('ROC curve for LDA classifier')\n",
    "plt.legend(loc=\"lower right\")\n",
    "plt.show()"
   ],
   "metadata": {
    "collapsed": false,
    "ExecuteTime": {
     "end_time": "2023-10-15T22:13:30.045009600Z",
     "start_time": "2023-10-15T22:13:29.896631600Z"
    }
   }
  },
  {
   "cell_type": "code",
   "execution_count": 421,
   "outputs": [],
   "source": [
    "qda_scores = qda.predict_proba(x_test)[:,1]\n",
    "fpr, tpr, thresholds = roc_curve(y_test, lda_scores)\n",
    "aire = auc(fpr, tpr)"
   ],
   "metadata": {
    "collapsed": false,
    "ExecuteTime": {
     "end_time": "2023-10-15T22:13:30.403625500Z",
     "start_time": "2023-10-15T22:13:30.373292Z"
    }
   }
  },
  {
   "cell_type": "code",
   "execution_count": 422,
   "outputs": [
    {
     "data": {
      "text/plain": "<Figure size 640x480 with 1 Axes>",
      "image/png": "[encoded data removed]"
     },
     "metadata": {},
     "output_type": "display_data"
    }
   ],
   "source": [
    "plt.figure()\n",
    "plt.plot(fpr, tpr, color='orange', lw=2, label='ROC curve (auc = %0.3f)' % aire)\n",
    "plt.plot([0, 1], [0, 1], color='navy', lw=2, linestyle='--')\n",
    "plt.xlim([0.0, 1.0])\n",
    "plt.ylim([0.0, 1.05])\n",
    "plt.xlabel('False Positive Rate')\n",
    "plt.ylabel('True Positive Rate')\n",
    "plt.title('ROC curve for QDA classifier')\n",
    "plt.legend(loc=\"lower right\")\n",
    "plt.show()\n"
   ],
   "metadata": {
    "collapsed": false,
    "ExecuteTime": {
     "end_time": "2023-10-15T22:13:31.569659500Z",
     "start_time": "2023-10-15T22:13:31.432487400Z"
    }
   }
  },
  {
   "cell_type": "code",
   "execution_count": 437,
   "outputs": [
    {
     "name": "stderr",
     "output_type": "stream",
     "text": [
      "C:\\Users\\willc\\anaconda3\\lib\\site-packages\\sklearn\\neighbors\\_classification.py:198: DataConversionWarning: A column-vector y was passed when a 1d array was expected. Please change the shape of y to (n_samples,), for example using ravel().\n",
      "  return self._fit(X, y)\n"
     ]
    },
    {
     "data": {
      "text/plain": "<Figure size 640x480 with 1 Axes>",
      "image/png": "[encoded data removed]"
     },
     "metadata": {},
     "output_type": "display_data"
    }
   ],
   "source": [
    "knn = KNeighborsClassifier(n_neighbors=4)\n",
    "knn.fit(x_train, y_train)\n",
    "knn_scores = knn.predict_proba(x_test)[:, 1]\n",
    "\n",
    "# Calculate the ROC curve\n",
    "fpr, tpr, thresholds = roc_curve(y_test, knn_scores)\n",
    "roc_auc = auc(fpr, tpr)\n",
    "\n",
    "# Plot the ROC curve\n",
    "plt.figure()\n",
    "plt.plot(fpr, tpr, color='orange', lw=2, label=f'ROC curve (AUC = {roc_auc:.3f})')\n",
    "plt.plot([0, 1], [0, 1], color='navy', lw=2, linestyle='--')\n",
    "plt.xlim([0.0, 1.0])\n",
    "plt.ylim([0.0, 1.05])\n",
    "plt.xlabel('False Positive Rate')\n",
    "plt.ylabel('True Positive Rate')\n",
    "plt.title('ROC curve for KNN classifier')\n",
    "plt.legend(loc=\"lower right\")\n",
    "plt.show()"
   ],
   "metadata": {
    "collapsed": false,
    "ExecuteTime": {
     "end_time": "2023-10-15T22:24:11.588229300Z",
     "start_time": "2023-10-15T22:24:11.423342300Z"
    }
   }
  },
  {
   "cell_type": "code",
   "execution_count": 438,
   "outputs": [
    {
     "data": {
      "text/plain": "<Figure size 640x480 with 1 Axes>",
      "image/png": "[encoded data removed]"
     },
     "metadata": {},
     "output_type": "display_data"
    }
   ],
   "source": [
    "logreg_probs = logreg.predict()\n",
    "\n",
    "# Calculate the ROC curve\n",
    "fpr, tpr, thresholds = roc_curve(bankrupt_train['Bankrupt'], logreg_probs)\n",
    "roc_auc = auc(fpr, tpr)\n",
    "\n",
    "# Plot the ROC curve\n",
    "plt.figure()\n",
    "plt.plot(fpr, tpr, color='orange', lw=2, label=f'ROC curve (AUC = {roc_auc:.3f})')\n",
    "plt.plot([0, 1], [0, 1], color='navy', lw=2, linestyle='--')\n",
    "plt.xlim([0.0, 1.0])\n",
    "plt.ylim([0.0, 1.05])\n",
    "plt.xlabel('False Positive Rate')\n",
    "plt.ylabel('True Positive Rate')\n",
    "plt.title('ROC curve for Logistic Regression classifier')\n",
    "plt.legend(loc=\"lower right\")\n",
    "plt.show()"
   ],
   "metadata": {
    "collapsed": false,
    "ExecuteTime": {
     "end_time": "2023-10-15T22:26:22.318954100Z",
     "start_time": "2023-10-15T22:26:22.122674200Z"
    }
   }
  },
  {
   "cell_type": "markdown",
   "source": [
    "According to the ROC Curve I will perform either QDA or LDA because they have the best AUC (Area under the curve)"
   ],
   "metadata": {
    "collapsed": false
   }
  },
  {
   "cell_type": "code",
   "execution_count": null,
   "outputs": [],
   "source": [],
   "metadata": {
    "collapsed": false
   }
  }
 ],
 "metadata": {
  "kernelspec": {
   "display_name": "Python 3",
   "language": "python",
   "name": "python3"
  },
  "language_info": {
   "codemirror_mode": {
    "name": "ipython",
    "version": 2
   },
   "file_extension": ".py",
   "mimetype": "text/x-python",
   "name": "python",
   "nbconvert_exporter": "python",
   "pygments_lexer": "ipython2",
   "version": "2.7.6"
  }
 },
 "nbformat": 4,
 "nbformat_minor": 0
}
